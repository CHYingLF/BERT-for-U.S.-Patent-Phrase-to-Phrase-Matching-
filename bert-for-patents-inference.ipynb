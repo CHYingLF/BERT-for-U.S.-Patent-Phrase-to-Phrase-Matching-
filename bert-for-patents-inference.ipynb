{
 "cells": [
  {
   "cell_type": "code",
   "execution_count": 1,
   "id": "37901402",
   "metadata": {
    "execution": {
     "iopub.execute_input": "2022-06-08T17:00:02.406899Z",
     "iopub.status.busy": "2022-06-08T17:00:02.405229Z",
     "iopub.status.idle": "2022-06-08T17:00:10.424367Z",
     "shell.execute_reply": "2022-06-08T17:00:10.423717Z",
     "shell.execute_reply.started": "2022-06-08T16:39:42.246824Z"
    },
    "papermill": {
     "duration": 8.044103,
     "end_time": "2022-06-08T17:00:10.424553",
     "exception": false,
     "start_time": "2022-06-08T17:00:02.380450",
     "status": "completed"
    },
    "tags": []
   },
   "outputs": [],
   "source": [
    "import os\n",
    "import pandas as pd\n",
    "import numpy as np\n",
    "from sklearn.model_selection import KFold, StratifiedKFold\n",
    "import shutil\n",
    "\n",
    "from torch.utils.data import DataLoader, Dataset\n",
    "import datasets, transformers\n",
    "from transformers import TrainingArguments, Trainer\n",
    "from transformers import AutoModelForSequenceClassification, AutoTokenizer\n",
    "from wordcloud import WordCloud, STOPWORDS\n",
    "import string\n",
    "\n",
    "from nltk.stem.snowball import SnowballStemmer\n",
    "\n",
    "\n",
    "os.environ[\"WANDB_DISABLED\"] = \"true\""
   ]
  },
  {
   "cell_type": "markdown",
   "id": "a82f9339",
   "metadata": {
    "papermill": {
     "duration": 0.019347,
     "end_time": "2022-06-08T17:00:10.463476",
     "exception": false,
     "start_time": "2022-06-08T17:00:10.444129",
     "status": "completed"
    },
    "tags": []
   },
   "source": [
    "# Config"
   ]
  },
  {
   "cell_type": "code",
   "execution_count": 2,
   "id": "86d99d6d",
   "metadata": {
    "execution": {
     "iopub.execute_input": "2022-06-08T17:00:10.508932Z",
     "iopub.status.busy": "2022-06-08T17:00:10.507949Z",
     "iopub.status.idle": "2022-06-08T17:00:10.509823Z",
     "shell.execute_reply": "2022-06-08T17:00:10.510320Z",
     "shell.execute_reply.started": "2022-06-08T16:39:42.27781Z"
    },
    "papermill": {
     "duration": 0.027365,
     "end_time": "2022-06-08T17:00:10.510455",
     "exception": false,
     "start_time": "2022-06-08T17:00:10.483090",
     "status": "completed"
    },
    "tags": []
   },
   "outputs": [],
   "source": [
    "class CFG:\n",
    "    input_path = '../input/us-patent-phrase-to-phrase-matching/'\n",
    "    #model_path = [\"../input/uspppm-debertv3large-5folds/\",\"../input/uspppm-bert-for-patents-baseline-5folds/\",\n",
    "    #             \"../input/uspppm-debertv3large-5folds-v2/\",\"../input/berttrain/\",\"../input/uspppmdebertav3/\",\n",
    "    #              \"../input/uspppm-bert-train-v3/\",\"../input/uspppm-deberta-v3/\"]\n",
    "    #model_path = [\"../input/uspppm-debertv3large-5folds/uspppm_1\", \"../input/berttrain/uspppm_3\",\"../input/berttrain/uspppm_4\"]\n",
    "    #model_path = [\"../input/uspppm-bert-for-patents-baseline-5folds/\",\"../input/berttrain/\",\"../input/uspppmdebertav3/\"]\n",
    "    model_path = [\"../input/uspppm-bert-train-v3/\"]\n",
    "    #model_path = [\"../input/uspppm-deberta-v3/\"]\n",
    "    #model_path = [\"../input/uspppm-bert-train-v3/\",\"../input/uspppm-deberta-v3/\"]\n",
    "    \n",
    "    learning_rate = 2e-5\n",
    "    weight_decay = 0.01\n",
    "    num_fold = 5\n",
    "    epochs = 5\n",
    "    batch_size = 32\n",
    "    self_testing = False\n"
   ]
  },
  {
   "cell_type": "markdown",
   "id": "86b748d4",
   "metadata": {
    "papermill": {
     "duration": 0.020156,
     "end_time": "2022-06-08T17:00:10.550626",
     "exception": false,
     "start_time": "2022-06-08T17:00:10.530470",
     "status": "completed"
    },
    "tags": []
   },
   "source": [
    "# Preproc"
   ]
  },
  {
   "cell_type": "code",
   "execution_count": 3,
   "id": "a87b23d3",
   "metadata": {
    "execution": {
     "iopub.execute_input": "2022-06-08T17:00:10.598581Z",
     "iopub.status.busy": "2022-06-08T17:00:10.597633Z",
     "iopub.status.idle": "2022-06-08T17:00:10.599422Z",
     "shell.execute_reply": "2022-06-08T17:00:10.600010Z",
     "shell.execute_reply.started": "2022-06-08T16:39:42.316082Z"
    },
    "papermill": {
     "duration": 0.029301,
     "end_time": "2022-06-08T17:00:10.600157",
     "exception": false,
     "start_time": "2022-06-08T17:00:10.570856",
     "status": "completed"
    },
    "tags": []
   },
   "outputs": [],
   "source": [
    "stemmer = SnowballStemmer(\"english\")\n",
    "\n",
    "def remove_punctuations(text):\n",
    "    for punctuation in string.punctuation:\n",
    "        text = text.replace(punctuation, '')\n",
    "    return text\n",
    "\n",
    "def remove_stopwords(text):\n",
    "    temp = ''\n",
    "    for w in text.split():\n",
    "        if w in STOPWORDS: continue\n",
    "        temp += ' ' + w\n",
    "    return temp\n",
    "\n",
    "def stemming(text):\n",
    "    temp = ''\n",
    "    for w in text.split():\n",
    "        temp += ' ' + stemmer.stem(w)\n",
    "    return temp"
   ]
  },
  {
   "cell_type": "code",
   "execution_count": 4,
   "id": "a825f03c",
   "metadata": {
    "execution": {
     "iopub.execute_input": "2022-06-08T17:00:10.657426Z",
     "iopub.status.busy": "2022-06-08T17:00:10.656359Z",
     "iopub.status.idle": "2022-06-08T17:00:10.658263Z",
     "shell.execute_reply": "2022-06-08T17:00:10.658835Z",
     "shell.execute_reply.started": "2022-06-08T16:39:42.353167Z"
    },
    "papermill": {
     "duration": 0.038571,
     "end_time": "2022-06-08T17:00:10.658985",
     "exception": false,
     "start_time": "2022-06-08T17:00:10.620414",
     "status": "completed"
    },
    "tags": []
   },
   "outputs": [],
   "source": [
    "\n",
    "def preproc(modelname, self_testing):\n",
    "    sections = {\"A\" : \"Human Necessities\", \n",
    "                \"B\" : \"Operations and Transport\",\n",
    "                \"C\" : \"Chemistry and Metallurgy\",\n",
    "                \"D\" : \"Textiles\",\n",
    "                \"E\" : \"Fixed Constructions\",\n",
    "                \"F\" : \"Mechanical Engineering\",\n",
    "                \"G\" : \"Physics\",\n",
    "                \"H\" : \"Electricity\",\n",
    "                \"Y\" : \"Emerging Cross-Sectional Technologies\"}\n",
    "\n",
    "    titles = pd.read_csv('../input/cpc-codes/titles.csv')\n",
    "    if not self_testing:\n",
    "        test_df = pd.read_csv(f\"{CFG.input_path}test.csv\")\n",
    "        test_df = test_df.merge(titles, left_on='context', right_on='code')\n",
    "        test_df['input'] = test_df['section'] + \" \"+ test_df['class'].astype(str) + \" \" +test_df['title']+' [SEP] '+test_df['anchor']\n",
    "\n",
    "    else:\n",
    "        train_df = pd.read_csv(f\"{CFG.input_path}train.csv\")\n",
    "        train_df = train_df.merge(titles, left_on = \"context\", right_on = 'code')\n",
    "        train_df[\"input\"] = train_df['section'] + \" \"+ train_df['class'].astype(str) + \" \" +train_df['title']+' [SEP] '+train_df['anchor']\n",
    "        val_df = train_df.sample(128, random_state = 1996)\n",
    "        test_df = val_df\n",
    "\n",
    "    if modelname == \"../input/uspppm-bert-train-v3/\":\n",
    "        #test_df['topic'] = test_df['section'].map(sections).str.lower()\n",
    "        #test_df['input'] = test_df['section'] + \" \" + test_df['class'].astype(str) + \" \" + test_df['topic'] + ' ' +\\\n",
    "        #                    test_df['title'].str.lower() + \" - \" + test_df['anchor']\n",
    "        \n",
    "        test_df = pd.read_csv(f\"{CFG.input_path}test.csv\")\n",
    "        test_df = test_df.merge(titles, left_on='context', right_on='code')\n",
    "        # target and anchor\n",
    "        test_df['target'] =  test_df.target.apply(remove_punctuations)\n",
    "        test_df['target'] =  test_df.target.apply(remove_stopwords)\n",
    "        test_df['target'] =  test_df.target.apply(stemming)\n",
    "\n",
    "        test_df['anchor'] =  test_df.anchor.apply(remove_punctuations)\n",
    "        test_df['anchor'] =  test_df.anchor.apply(remove_stopwords)\n",
    "        test_df['anchor'] =  test_df.anchor.apply(stemming)\n",
    "        \n",
    "        #titles\n",
    "        test_df['title'] = test_df.title.apply(remove_punctuations)\n",
    "        test_df['title'] = test_df.title.str.lower()\n",
    "        test_df['title'] = test_df.title.apply(remove_stopwords)\n",
    "        test_df['title'] = test_df.title.apply(stemming)\n",
    "        \n",
    "        #merge\n",
    "        test_df = test_df.drop(['subclass','group','main_group', 'context'],axis = 1)\n",
    "        test_df['class'] = test_df['class'].astype(int)\n",
    "        \n",
    "        #form input\n",
    "        test_df['topic'] = test_df['section'].map(sections).str.lower()\n",
    "        test_df['input'] = test_df['anchor'] +' '+ test_df['section'].str.lower() + \" \" + test_df['class'].astype(str) + \" \" + test_df['topic'] + ' ' +\\\n",
    "                    test_df['title'].str.lower() \n",
    "\n",
    "    return test_df\n",
    "\n",
    "#test = preproc(CFG.model_path[0], CFG.self_testing)"
   ]
  },
  {
   "cell_type": "code",
   "execution_count": 5,
   "id": "2b9545e2",
   "metadata": {
    "execution": {
     "iopub.execute_input": "2022-06-08T17:00:10.703317Z",
     "iopub.status.busy": "2022-06-08T17:00:10.702358Z",
     "iopub.status.idle": "2022-06-08T17:00:10.704237Z",
     "shell.execute_reply": "2022-06-08T17:00:10.705141Z",
     "shell.execute_reply.started": "2022-06-08T16:39:42.392682Z"
    },
    "papermill": {
     "duration": 0.026293,
     "end_time": "2022-06-08T17:00:10.705282",
     "exception": false,
     "start_time": "2022-06-08T17:00:10.678989",
     "status": "completed"
    },
    "tags": []
   },
   "outputs": [],
   "source": [
    "#pd.set_option('display.max_colwidth', None)\n",
    "#test[['input','target']]"
   ]
  },
  {
   "cell_type": "markdown",
   "id": "568faa44",
   "metadata": {
    "papermill": {
     "duration": 0.019017,
     "end_time": "2022-06-08T17:00:10.744355",
     "exception": false,
     "start_time": "2022-06-08T17:00:10.725338",
     "status": "completed"
    },
    "tags": []
   },
   "source": [
    "# Tokenizer"
   ]
  },
  {
   "cell_type": "code",
   "execution_count": 6,
   "id": "021e9be4",
   "metadata": {
    "execution": {
     "iopub.execute_input": "2022-06-08T17:00:10.788102Z",
     "iopub.status.busy": "2022-06-08T17:00:10.787249Z",
     "iopub.status.idle": "2022-06-08T17:00:10.791034Z",
     "shell.execute_reply": "2022-06-08T17:00:10.791497Z",
     "shell.execute_reply.started": "2022-06-08T16:39:42.417266Z"
    },
    "papermill": {
     "duration": 0.02694,
     "end_time": "2022-06-08T17:00:10.791662",
     "exception": false,
     "start_time": "2022-06-08T17:00:10.764722",
     "status": "completed"
    },
    "tags": []
   },
   "outputs": [],
   "source": [
    "#tokenizer = AutoTokenizer.from_pretrained(f'{CFG.model_path[]}uspppm_1')"
   ]
  },
  {
   "cell_type": "markdown",
   "id": "cee5fff1",
   "metadata": {
    "papermill": {
     "duration": 0.019638,
     "end_time": "2022-06-08T17:00:10.832719",
     "exception": false,
     "start_time": "2022-06-08T17:00:10.813081",
     "status": "completed"
    },
    "tags": []
   },
   "source": [
    "# Dataset"
   ]
  },
  {
   "cell_type": "code",
   "execution_count": 7,
   "id": "574c0858",
   "metadata": {
    "execution": {
     "iopub.execute_input": "2022-06-08T17:00:10.879584Z",
     "iopub.status.busy": "2022-06-08T17:00:10.878643Z",
     "iopub.status.idle": "2022-06-08T17:00:10.880443Z",
     "shell.execute_reply": "2022-06-08T17:00:10.880969Z",
     "shell.execute_reply.started": "2022-06-08T16:39:42.42641Z"
    },
    "papermill": {
     "duration": 0.028711,
     "end_time": "2022-06-08T17:00:10.881110",
     "exception": false,
     "start_time": "2022-06-08T17:00:10.852399",
     "status": "completed"
    },
    "tags": []
   },
   "outputs": [],
   "source": [
    "class InferDataset(Dataset):\n",
    "    def __init__(self, df):\n",
    "        self.inputs = df['input'].values.astype(str)\n",
    "        self.targets = df['target'].values.astype(str)\n",
    "\n",
    "    def __len__(self):\n",
    "        return len(self.inputs)\n",
    "\n",
    "    def __getitem__(self, item):\n",
    "        inputs = self.inputs[item]\n",
    "        targets = self.targets[item]\n",
    "        \n",
    "        return {\n",
    "        **tokenizer( inputs, targets )\n",
    "    }"
   ]
  },
  {
   "cell_type": "markdown",
   "id": "0304ff21",
   "metadata": {
    "papermill": {
     "duration": 0.019457,
     "end_time": "2022-06-08T17:00:10.920290",
     "exception": false,
     "start_time": "2022-06-08T17:00:10.900833",
     "status": "completed"
    },
    "tags": []
   },
   "source": [
    "# Inference"
   ]
  },
  {
   "cell_type": "code",
   "execution_count": 8,
   "id": "902af288",
   "metadata": {
    "execution": {
     "iopub.execute_input": "2022-06-08T17:00:10.966130Z",
     "iopub.status.busy": "2022-06-08T17:00:10.965248Z",
     "iopub.status.idle": "2022-06-08T17:00:10.967118Z",
     "shell.execute_reply": "2022-06-08T17:00:10.967679Z",
     "shell.execute_reply.started": "2022-06-08T16:39:42.437573Z"
    },
    "papermill": {
     "duration": 0.027805,
     "end_time": "2022-06-08T17:00:10.967826",
     "exception": false,
     "start_time": "2022-06-08T17:00:10.940021",
     "status": "completed"
    },
    "tags": []
   },
   "outputs": [],
   "source": [
    "def compute_metrics(eval_pred):\n",
    "    predictions, labels = eval_pred\n",
    "    predictions = predictions.reshape(len(predictions))\n",
    "    return {\n",
    "        'pearson': np.corrcoef(predictions, labels)[0][1]\n",
    "    }"
   ]
  },
  {
   "cell_type": "code",
   "execution_count": 9,
   "id": "aa2445cf",
   "metadata": {
    "execution": {
     "iopub.execute_input": "2022-06-08T17:00:11.015245Z",
     "iopub.status.busy": "2022-06-08T17:00:11.014619Z",
     "iopub.status.idle": "2022-06-08T17:01:26.729627Z",
     "shell.execute_reply": "2022-06-08T17:01:26.730266Z",
     "shell.execute_reply.started": "2022-06-08T16:39:42.456025Z"
    },
    "papermill": {
     "duration": 75.742914,
     "end_time": "2022-06-08T17:01:26.730501",
     "exception": false,
     "start_time": "2022-06-08T17:00:10.987587",
     "status": "completed"
    },
    "tags": []
   },
   "outputs": [
    {
     "name": "stderr",
     "output_type": "stream",
     "text": [
      "Using the `WAND_DISABLED` environment variable is deprecated and will be removed in v5. Use the --report_to flag to control the integrations used for logging result (for instance --report_to none).\n",
      "***** Running Prediction *****\n",
      "  Num examples = 36\n",
      "  Batch size = 8\n"
     ]
    },
    {
     "data": {
      "text/html": [
       "\n",
       "    <div>\n",
       "      \n",
       "      <progress value='5' max='5' style='width:300px; height:20px; vertical-align: middle;'></progress>\n",
       "      [5/5 00:00]\n",
       "    </div>\n",
       "    "
      ],
      "text/plain": [
       "<IPython.core.display.HTML object>"
      ]
     },
     "metadata": {},
     "output_type": "display_data"
    },
    {
     "name": "stderr",
     "output_type": "stream",
     "text": [
      "loading configuration file ../input/uspppm-bert-train-v3/uspppm_1/config.json\n",
      "Model config BertConfig {\n",
      "  \"_name_or_path\": \"../input/uspppm-bert-train-v3/uspppm_1\",\n",
      "  \"architectures\": [\n",
      "    \"BertForSequenceClassification\"\n",
      "  ],\n",
      "  \"attention_probs_dropout_prob\": 0.1,\n",
      "  \"classifier_dropout\": null,\n",
      "  \"hidden_act\": \"gelu\",\n",
      "  \"hidden_dropout_prob\": 0.1,\n",
      "  \"hidden_size\": 1024,\n",
      "  \"id2label\": {\n",
      "    \"0\": \"LABEL_0\"\n",
      "  },\n",
      "  \"initializer_range\": 0.02,\n",
      "  \"intermediate_size\": 4096,\n",
      "  \"label2id\": {\n",
      "    \"LABEL_0\": 0\n",
      "  },\n",
      "  \"layer_norm_eps\": 1e-12,\n",
      "  \"max_position_embeddings\": 512,\n",
      "  \"model_type\": \"bert\",\n",
      "  \"num_attention_heads\": 16,\n",
      "  \"num_hidden_layers\": 24,\n",
      "  \"pad_token_id\": 0,\n",
      "  \"position_embedding_type\": \"absolute\",\n",
      "  \"problem_type\": \"regression\",\n",
      "  \"torch_dtype\": \"float32\",\n",
      "  \"transformers_version\": \"4.16.2\",\n",
      "  \"type_vocab_size\": 2,\n",
      "  \"use_cache\": true,\n",
      "  \"vocab_size\": 39859\n",
      "}\n",
      "\n",
      "loading weights file ../input/uspppm-bert-train-v3/uspppm_1/pytorch_model.bin\n",
      "All model checkpoint weights were used when initializing BertForSequenceClassification.\n",
      "\n",
      "All the weights of BertForSequenceClassification were initialized from the model checkpoint at ../input/uspppm-bert-train-v3/uspppm_1.\n",
      "If your task is similar to the task the model of the checkpoint was trained on, you can already use BertForSequenceClassification for predictions without further training.\n",
      "Didn't find file ../input/uspppm-bert-train-v3/uspppm_1/added_tokens.json. We won't load it.\n",
      "loading file ../input/uspppm-bert-train-v3/uspppm_1/vocab.txt\n",
      "loading file ../input/uspppm-bert-train-v3/uspppm_1/tokenizer.json\n",
      "loading file None\n",
      "loading file ../input/uspppm-bert-train-v3/uspppm_1/special_tokens_map.json\n",
      "loading file ../input/uspppm-bert-train-v3/uspppm_1/tokenizer_config.json\n",
      "No `TrainingArguments` passed, using `output_dir=tmp_trainer`.\n",
      "PyTorch: setting up devices\n",
      "The default value for the training argument `--report_to` will change in v5 (from all installed integrations to none). In v5, you will need to use `--report_to all` to get the same behavior as now. You should start updating your code and make this info disappear :-).\n",
      "Using the `WAND_DISABLED` environment variable is deprecated and will be removed in v5. Use the --report_to flag to control the integrations used for logging result (for instance --report_to none).\n",
      "***** Running Prediction *****\n",
      "  Num examples = 36\n",
      "  Batch size = 8\n"
     ]
    },
    {
     "data": {
      "text/html": [
       "\n",
       "    <div>\n",
       "      \n",
       "      <progress value='5' max='5' style='width:300px; height:20px; vertical-align: middle;'></progress>\n",
       "      [5/5 00:00]\n",
       "    </div>\n",
       "    "
      ],
      "text/plain": [
       "<IPython.core.display.HTML object>"
      ]
     },
     "metadata": {},
     "output_type": "display_data"
    },
    {
     "name": "stderr",
     "output_type": "stream",
     "text": [
      "loading configuration file ../input/uspppm-bert-train-v3/uspppm_2/config.json\n",
      "Model config BertConfig {\n",
      "  \"_name_or_path\": \"../input/uspppm-bert-train-v3/uspppm_2\",\n",
      "  \"architectures\": [\n",
      "    \"BertForSequenceClassification\"\n",
      "  ],\n",
      "  \"attention_probs_dropout_prob\": 0.1,\n",
      "  \"classifier_dropout\": null,\n",
      "  \"hidden_act\": \"gelu\",\n",
      "  \"hidden_dropout_prob\": 0.1,\n",
      "  \"hidden_size\": 1024,\n",
      "  \"id2label\": {\n",
      "    \"0\": \"LABEL_0\"\n",
      "  },\n",
      "  \"initializer_range\": 0.02,\n",
      "  \"intermediate_size\": 4096,\n",
      "  \"label2id\": {\n",
      "    \"LABEL_0\": 0\n",
      "  },\n",
      "  \"layer_norm_eps\": 1e-12,\n",
      "  \"max_position_embeddings\": 512,\n",
      "  \"model_type\": \"bert\",\n",
      "  \"num_attention_heads\": 16,\n",
      "  \"num_hidden_layers\": 24,\n",
      "  \"pad_token_id\": 0,\n",
      "  \"position_embedding_type\": \"absolute\",\n",
      "  \"problem_type\": \"regression\",\n",
      "  \"torch_dtype\": \"float32\",\n",
      "  \"transformers_version\": \"4.16.2\",\n",
      "  \"type_vocab_size\": 2,\n",
      "  \"use_cache\": true,\n",
      "  \"vocab_size\": 39859\n",
      "}\n",
      "\n",
      "loading weights file ../input/uspppm-bert-train-v3/uspppm_2/pytorch_model.bin\n",
      "All model checkpoint weights were used when initializing BertForSequenceClassification.\n",
      "\n",
      "All the weights of BertForSequenceClassification were initialized from the model checkpoint at ../input/uspppm-bert-train-v3/uspppm_2.\n",
      "If your task is similar to the task the model of the checkpoint was trained on, you can already use BertForSequenceClassification for predictions without further training.\n",
      "Didn't find file ../input/uspppm-bert-train-v3/uspppm_2/added_tokens.json. We won't load it.\n",
      "loading file ../input/uspppm-bert-train-v3/uspppm_2/vocab.txt\n",
      "loading file ../input/uspppm-bert-train-v3/uspppm_2/tokenizer.json\n",
      "loading file None\n",
      "loading file ../input/uspppm-bert-train-v3/uspppm_2/special_tokens_map.json\n",
      "loading file ../input/uspppm-bert-train-v3/uspppm_2/tokenizer_config.json\n",
      "No `TrainingArguments` passed, using `output_dir=tmp_trainer`.\n",
      "PyTorch: setting up devices\n",
      "The default value for the training argument `--report_to` will change in v5 (from all installed integrations to none). In v5, you will need to use `--report_to all` to get the same behavior as now. You should start updating your code and make this info disappear :-).\n",
      "Using the `WAND_DISABLED` environment variable is deprecated and will be removed in v5. Use the --report_to flag to control the integrations used for logging result (for instance --report_to none).\n",
      "***** Running Prediction *****\n",
      "  Num examples = 36\n",
      "  Batch size = 8\n"
     ]
    },
    {
     "data": {
      "text/html": [
       "\n",
       "    <div>\n",
       "      \n",
       "      <progress value='5' max='5' style='width:300px; height:20px; vertical-align: middle;'></progress>\n",
       "      [5/5 00:00]\n",
       "    </div>\n",
       "    "
      ],
      "text/plain": [
       "<IPython.core.display.HTML object>"
      ]
     },
     "metadata": {},
     "output_type": "display_data"
    },
    {
     "name": "stderr",
     "output_type": "stream",
     "text": [
      "loading configuration file ../input/uspppm-bert-train-v3/uspppm_3/config.json\n",
      "Model config BertConfig {\n",
      "  \"_name_or_path\": \"../input/uspppm-bert-train-v3/uspppm_3\",\n",
      "  \"architectures\": [\n",
      "    \"BertForSequenceClassification\"\n",
      "  ],\n",
      "  \"attention_probs_dropout_prob\": 0.1,\n",
      "  \"classifier_dropout\": null,\n",
      "  \"hidden_act\": \"gelu\",\n",
      "  \"hidden_dropout_prob\": 0.1,\n",
      "  \"hidden_size\": 1024,\n",
      "  \"id2label\": {\n",
      "    \"0\": \"LABEL_0\"\n",
      "  },\n",
      "  \"initializer_range\": 0.02,\n",
      "  \"intermediate_size\": 4096,\n",
      "  \"label2id\": {\n",
      "    \"LABEL_0\": 0\n",
      "  },\n",
      "  \"layer_norm_eps\": 1e-12,\n",
      "  \"max_position_embeddings\": 512,\n",
      "  \"model_type\": \"bert\",\n",
      "  \"num_attention_heads\": 16,\n",
      "  \"num_hidden_layers\": 24,\n",
      "  \"pad_token_id\": 0,\n",
      "  \"position_embedding_type\": \"absolute\",\n",
      "  \"problem_type\": \"regression\",\n",
      "  \"torch_dtype\": \"float32\",\n",
      "  \"transformers_version\": \"4.16.2\",\n",
      "  \"type_vocab_size\": 2,\n",
      "  \"use_cache\": true,\n",
      "  \"vocab_size\": 39859\n",
      "}\n",
      "\n",
      "loading weights file ../input/uspppm-bert-train-v3/uspppm_3/pytorch_model.bin\n",
      "All model checkpoint weights were used when initializing BertForSequenceClassification.\n",
      "\n",
      "All the weights of BertForSequenceClassification were initialized from the model checkpoint at ../input/uspppm-bert-train-v3/uspppm_3.\n",
      "If your task is similar to the task the model of the checkpoint was trained on, you can already use BertForSequenceClassification for predictions without further training.\n",
      "Didn't find file ../input/uspppm-bert-train-v3/uspppm_3/added_tokens.json. We won't load it.\n",
      "loading file ../input/uspppm-bert-train-v3/uspppm_3/vocab.txt\n",
      "loading file ../input/uspppm-bert-train-v3/uspppm_3/tokenizer.json\n",
      "loading file None\n",
      "loading file ../input/uspppm-bert-train-v3/uspppm_3/special_tokens_map.json\n",
      "loading file ../input/uspppm-bert-train-v3/uspppm_3/tokenizer_config.json\n",
      "No `TrainingArguments` passed, using `output_dir=tmp_trainer`.\n",
      "PyTorch: setting up devices\n",
      "The default value for the training argument `--report_to` will change in v5 (from all installed integrations to none). In v5, you will need to use `--report_to all` to get the same behavior as now. You should start updating your code and make this info disappear :-).\n",
      "Using the `WAND_DISABLED` environment variable is deprecated and will be removed in v5. Use the --report_to flag to control the integrations used for logging result (for instance --report_to none).\n",
      "***** Running Prediction *****\n",
      "  Num examples = 36\n",
      "  Batch size = 8\n"
     ]
    },
    {
     "data": {
      "text/html": [
       "\n",
       "    <div>\n",
       "      \n",
       "      <progress value='5' max='5' style='width:300px; height:20px; vertical-align: middle;'></progress>\n",
       "      [5/5 00:00]\n",
       "    </div>\n",
       "    "
      ],
      "text/plain": [
       "<IPython.core.display.HTML object>"
      ]
     },
     "metadata": {},
     "output_type": "display_data"
    },
    {
     "name": "stderr",
     "output_type": "stream",
     "text": [
      "loading configuration file ../input/uspppm-bert-train-v3/uspppm_4/config.json\n",
      "Model config BertConfig {\n",
      "  \"_name_or_path\": \"../input/uspppm-bert-train-v3/uspppm_4\",\n",
      "  \"architectures\": [\n",
      "    \"BertForSequenceClassification\"\n",
      "  ],\n",
      "  \"attention_probs_dropout_prob\": 0.1,\n",
      "  \"classifier_dropout\": null,\n",
      "  \"hidden_act\": \"gelu\",\n",
      "  \"hidden_dropout_prob\": 0.1,\n",
      "  \"hidden_size\": 1024,\n",
      "  \"id2label\": {\n",
      "    \"0\": \"LABEL_0\"\n",
      "  },\n",
      "  \"initializer_range\": 0.02,\n",
      "  \"intermediate_size\": 4096,\n",
      "  \"label2id\": {\n",
      "    \"LABEL_0\": 0\n",
      "  },\n",
      "  \"layer_norm_eps\": 1e-12,\n",
      "  \"max_position_embeddings\": 512,\n",
      "  \"model_type\": \"bert\",\n",
      "  \"num_attention_heads\": 16,\n",
      "  \"num_hidden_layers\": 24,\n",
      "  \"pad_token_id\": 0,\n",
      "  \"position_embedding_type\": \"absolute\",\n",
      "  \"problem_type\": \"regression\",\n",
      "  \"torch_dtype\": \"float32\",\n",
      "  \"transformers_version\": \"4.16.2\",\n",
      "  \"type_vocab_size\": 2,\n",
      "  \"use_cache\": true,\n",
      "  \"vocab_size\": 39859\n",
      "}\n",
      "\n",
      "loading weights file ../input/uspppm-bert-train-v3/uspppm_4/pytorch_model.bin\n",
      "All model checkpoint weights were used when initializing BertForSequenceClassification.\n",
      "\n",
      "All the weights of BertForSequenceClassification were initialized from the model checkpoint at ../input/uspppm-bert-train-v3/uspppm_4.\n",
      "If your task is similar to the task the model of the checkpoint was trained on, you can already use BertForSequenceClassification for predictions without further training.\n",
      "Didn't find file ../input/uspppm-bert-train-v3/uspppm_4/added_tokens.json. We won't load it.\n",
      "loading file ../input/uspppm-bert-train-v3/uspppm_4/vocab.txt\n",
      "loading file ../input/uspppm-bert-train-v3/uspppm_4/tokenizer.json\n",
      "loading file None\n",
      "loading file ../input/uspppm-bert-train-v3/uspppm_4/special_tokens_map.json\n",
      "loading file ../input/uspppm-bert-train-v3/uspppm_4/tokenizer_config.json\n",
      "No `TrainingArguments` passed, using `output_dir=tmp_trainer`.\n",
      "PyTorch: setting up devices\n",
      "The default value for the training argument `--report_to` will change in v5 (from all installed integrations to none). In v5, you will need to use `--report_to all` to get the same behavior as now. You should start updating your code and make this info disappear :-).\n",
      "Using the `WAND_DISABLED` environment variable is deprecated and will be removed in v5. Use the --report_to flag to control the integrations used for logging result (for instance --report_to none).\n",
      "***** Running Prediction *****\n",
      "  Num examples = 36\n",
      "  Batch size = 8\n"
     ]
    },
    {
     "data": {
      "text/html": [
       "\n",
       "    <div>\n",
       "      \n",
       "      <progress value='5' max='5' style='width:300px; height:20px; vertical-align: middle;'></progress>\n",
       "      [5/5 00:00]\n",
       "    </div>\n",
       "    "
      ],
      "text/plain": [
       "<IPython.core.display.HTML object>"
      ]
     },
     "metadata": {},
     "output_type": "display_data"
    }
   ],
   "source": [
    "predictions = []\n",
    "\n",
    "n_model = len(CFG.model_path)\n",
    "\n",
    "#n_model = 1\n",
    "\n",
    "for i in range(n_model):\n",
    "    for fold in range(CFG.num_fold):\n",
    "        test_df = preproc(CFG.model_path[i], CFG.self_testing)\n",
    "        te_dataset = InferDataset(test_df)\n",
    "        model = AutoModelForSequenceClassification.from_pretrained(f'{CFG.model_path[i]}uspppm_{fold}', num_labels=1)\n",
    "        tokenizer = AutoTokenizer.from_pretrained(f'{CFG.model_path[i]}uspppm_{fold}')\n",
    "        trainer = Trainer(\n",
    "                model,\n",
    "                tokenizer=tokenizer\n",
    "            )\n",
    "\n",
    "        outputs = trainer.predict(te_dataset)\n",
    "        prediction = outputs.predictions.reshape(-1)\n",
    "        predictions.append(prediction)\n",
    "    \n",
    "#predictions = np.mean(predictions, axis=0)\n"
   ]
  },
  {
   "cell_type": "code",
   "execution_count": 10,
   "id": "8e5d27fc",
   "metadata": {
    "execution": {
     "iopub.execute_input": "2022-06-08T17:01:26.899512Z",
     "iopub.status.busy": "2022-06-08T17:01:26.898696Z",
     "iopub.status.idle": "2022-06-08T17:01:26.904215Z",
     "shell.execute_reply": "2022-06-08T17:01:26.904884Z",
     "shell.execute_reply.started": "2022-06-08T16:40:34.05484Z"
    },
    "papermill": {
     "duration": 0.093567,
     "end_time": "2022-06-08T17:01:26.905131",
     "exception": false,
     "start_time": "2022-06-08T17:01:26.811564",
     "status": "completed"
    },
    "tags": []
   },
   "outputs": [],
   "source": [
    "#use gaussian distribution assumption, calculate percentile\n",
    "\n"
   ]
  },
  {
   "cell_type": "code",
   "execution_count": 11,
   "id": "e5436928",
   "metadata": {
    "execution": {
     "iopub.execute_input": "2022-06-08T17:01:27.076468Z",
     "iopub.status.busy": "2022-06-08T17:01:27.075455Z",
     "iopub.status.idle": "2022-06-08T17:01:27.078057Z",
     "shell.execute_reply": "2022-06-08T17:01:27.077302Z",
     "shell.execute_reply.started": "2022-06-08T16:40:34.057341Z"
    },
    "papermill": {
     "duration": 0.091796,
     "end_time": "2022-06-08T17:01:27.078237",
     "exception": false,
     "start_time": "2022-06-08T17:01:26.986441",
     "status": "completed"
    },
    "tags": []
   },
   "outputs": [],
   "source": [
    "# # # round down within a range\n",
    "# # # #minmax scaler\n",
    "# from sklearn.preprocessing import MinMaxScaler\n",
    "# import bisect\n",
    "# import collections\n",
    "\n",
    "# predictions_mean = np.mean(predictions, axis=0)\n",
    "# # print(\"predictions_mean:\\n\", predictions_mean)\n",
    "\n",
    "# ##Apply Minmax scaler \n",
    "# temp1 = predictions_mean.reshape(-1,1)\n",
    "# temp1 = MinMaxScaler().fit_transform(temp1)\n",
    "# temp1 = temp1.flatten()\n",
    " \n",
    "    \n",
    "# n = len(predictions_mean)\n",
    "\n",
    "# score = [0, 0.25, 0.5, 0.75, 1.00]\n",
    "# predictions_seg4 = []\n",
    "# w = 0.01\n",
    "\n",
    "# for i in range(n):\n",
    "#     temp = temp1[i]\n",
    "#     ind = min(bisect.bisect(score,temp),4)\n",
    "    \n",
    "#     if ind == 0:\n",
    "#         temp = 0.0\n",
    "        \n",
    "#     elif score[ind]-w<temp<score[ind]+w:\n",
    "#         temp = score[ind]\n",
    "#     elif score[ind-1]-w<temp<score[ind-1]+w:\n",
    "#         temp = score[ind-1]\n",
    "    \n",
    "#     if temp>1.0: temp = 1.0\n",
    "    \n",
    "#     predictions_seg4.append(temp)\n",
    "    \n",
    "# print(\"predictions_seg4:\\n\", predictions_seg4)"
   ]
  },
  {
   "cell_type": "code",
   "execution_count": 12,
   "id": "a6f131c1",
   "metadata": {
    "execution": {
     "iopub.execute_input": "2022-06-08T17:01:27.249297Z",
     "iopub.status.busy": "2022-06-08T17:01:27.248267Z",
     "iopub.status.idle": "2022-06-08T17:01:27.250798Z",
     "shell.execute_reply": "2022-06-08T17:01:27.250098Z",
     "shell.execute_reply.started": "2022-06-08T16:40:34.059714Z"
    },
    "papermill": {
     "duration": 0.092536,
     "end_time": "2022-06-08T17:01:27.250980",
     "exception": false,
     "start_time": "2022-06-08T17:01:27.158444",
     "status": "completed"
    },
    "tags": []
   },
   "outputs": [],
   "source": [
    "# #apply majority vote\n",
    "# n, m = len(predictions), len(predictions[0])\n",
    "\n",
    "# import bisect\n",
    "# import collections\n",
    "# score = [0, 0.25, 0.5, 0.75, 1.00]\n",
    "# temp1 = [[0]*m for _ in range(n)]\n",
    "\n",
    "# for j in range(n):\n",
    "#     for i in range(m):\n",
    "#         ind = min(bisect.bisect(score,predictions[j][i]),4)\n",
    "#         if ind == 0:\n",
    "#             temp1[j][i] = score[ind]\n",
    "#         else:\n",
    "#             d = abs(predictions[j][i]-score[ind]) - abs(predictions[j][i]-score[ind-1])\n",
    "#             temp1[j][i] = score[ind] if d<0 else score[ind-1]  \n",
    "\n",
    "# print(\"predictions\\n\",predictions)\n",
    "# print(\"temp1\\n\",temp1)\n",
    "\n",
    "# temp2 = []\n",
    "# for i in range(m):\n",
    "#     temp2.append([p[i] for p in temp1])\n",
    "    \n",
    "# print(\"temp2\\n\",temp2)\n",
    "\n",
    "# predictions_seg0 = []\n",
    "# for i in range(m):\n",
    "#     temp = collections.Counter(temp2[i])\n",
    "#     temp = [[temp[i],i] for i in temp]\n",
    "#     ind = temp.index(max(temp))\n",
    "#     predictions_seg0.append(temp[ind][1])\n",
    "\n",
    "    \n",
    "# print(\"predictions_seg0\\n\", predictions_seg0, len(predictions_seg0))\n"
   ]
  },
  {
   "cell_type": "code",
   "execution_count": 13,
   "id": "07cb1ce1",
   "metadata": {
    "execution": {
     "iopub.execute_input": "2022-06-08T17:01:27.428991Z",
     "iopub.status.busy": "2022-06-08T17:01:27.428069Z",
     "iopub.status.idle": "2022-06-08T17:01:27.431670Z",
     "shell.execute_reply": "2022-06-08T17:01:27.432296Z",
     "shell.execute_reply.started": "2022-06-08T16:40:34.061457Z"
    },
    "papermill": {
     "duration": 0.09801,
     "end_time": "2022-06-08T17:01:27.432516",
     "exception": false,
     "start_time": "2022-06-08T17:01:27.334506",
     "status": "completed"
    },
    "tags": []
   },
   "outputs": [],
   "source": [
    "#segment score to 0, 0.25, 0.5,0.75, 1.00\n",
    "# import bisect\n",
    "# score = [0, 0.25, 0.75, 1.00]\n",
    "# predictions_seg1 = [0]*len(predictions)\n",
    "\n",
    "# print(predictions)\n",
    "\n",
    "# for i in range(len(predictions)):\n",
    "#     ind = min(bisect.bisect(score,predictions[i]),3)\n",
    "#     if ind == 0:\n",
    "#         predictions_seg1[i] = score[ind]\n",
    "#     else:\n",
    "#         d = abs(predictions[i]-score[ind]) - abs(predictions[i]-score[ind-1])\n",
    "#         predictions_seg1[i] = score[ind] if d<0 else score[ind-1]  \n",
    "\n",
    "# print(\"predictions_seg1\\n\",predictions_seg1)\n",
    "# #segment negative vale and larger than 1 value\n",
    "# predictions_seg2 = [0]*len(predictions)\n",
    "\n",
    "# for i in range(len(predictions)):\n",
    "#     if predictions[i] < 0:\n",
    "#         predictions_seg2[i] = 0\n",
    "#     elif predictions[i] > 1:\n",
    "#         predictions_seg2[i] = 1\n",
    "#     else:\n",
    "#         predictions_seg2[i] = predictions[i]\n",
    "        \n",
    "# print(\"predictions_seg2\\n\",predictions_seg2)\n",
    "\n",
    "# #minmax scaler\n",
    "# from sklearn.preprocessing import MinMaxScaler\n",
    "\n",
    "# predictions = np.mean(predictions, axis=0)\n",
    "# predictions_seg3 = predictions.reshape(-1,1)\n",
    "# predictions_seg3 = MinMaxScaler().fit_transform(predictions_seg3)\n",
    "# predictions_seg3 = predictions_seg3.flatten()\n",
    "# print(\"predictions_seg3\\n\",predictions_seg3)"
   ]
  },
  {
   "cell_type": "markdown",
   "id": "114f82fe",
   "metadata": {
    "papermill": {
     "duration": 0.051986,
     "end_time": "2022-06-08T17:01:27.569976",
     "exception": false,
     "start_time": "2022-06-08T17:01:27.517990",
     "status": "completed"
    },
    "tags": []
   },
   "source": [
    "# Self testing"
   ]
  },
  {
   "cell_type": "markdown",
   "id": "e95d494a",
   "metadata": {
    "papermill": {
     "duration": 0.05092,
     "end_time": "2022-06-08T17:01:27.673224",
     "exception": false,
     "start_time": "2022-06-08T17:01:27.622304",
     "status": "completed"
    },
    "tags": []
   },
   "source": [
    "* Individual"
   ]
  },
  {
   "cell_type": "code",
   "execution_count": 14,
   "id": "ab7added",
   "metadata": {
    "execution": {
     "iopub.execute_input": "2022-06-08T17:01:27.791190Z",
     "iopub.status.busy": "2022-06-08T17:01:27.790471Z",
     "iopub.status.idle": "2022-06-08T17:01:27.794654Z",
     "shell.execute_reply": "2022-06-08T17:01:27.794154Z",
     "shell.execute_reply.started": "2022-06-08T16:40:34.063459Z"
    },
    "papermill": {
     "duration": 0.069684,
     "end_time": "2022-06-08T17:01:27.794783",
     "exception": false,
     "start_time": "2022-06-08T17:01:27.725099",
     "status": "completed"
    },
    "tags": []
   },
   "outputs": [],
   "source": [
    "#self testing\n",
    "if CFG.self_testing:\n",
    "    m,n = len(predictions), len(predictions[0])\n",
    "    labels = test_df[\"score\"].reset_index(drop = True)\n",
    "\n",
    "    model = [[i+j for j in range(5)] for i in range(0,m,5)]\n",
    "\n",
    "    #individual------------------------------------------------------------\n",
    "    pearson = []\n",
    "    print(\"Individual model:\\n\")\n",
    "    for mo in range(m): \n",
    "        prediction = predictions[mo]\n",
    "        eval_pred = prediction, labels\n",
    "        pearson.append(compute_metrics(eval_pred)['pearson'])\n",
    "        print(mo, compute_metrics(eval_pred))\n",
    "\n",
    "    # Individual model\n",
    "    #average within model--------------------------------------------------\n",
    "    print(\"\\n Average within models:\\n\")\n",
    "    model = [[i+j for j in range(5)] for i in range(0,m,5)]\n",
    "    predictions_ave = [] \n",
    "    for mo in model:\n",
    "        p = predictions[mo[0]:mo[-1]+1]\n",
    "        prediction = np.mean(p, axis = 0)\n",
    "        eval_pred = prediction, labels\n",
    "        print(mo, compute_metrics(eval_pred))\n",
    "        predictions_ave.append(prediction)\n",
    "\n",
    "    # Average several models\n",
    "\n",
    "    def BackTrac(models, model, m):\n",
    "        if len(model) > m:\n",
    "            return\n",
    "        if model and not model in models:\n",
    "            models.add(model)\n",
    "\n",
    "        for i in range(m):\n",
    "            if not i in model: BackTrac(models, model.union(frozenset([i])), m)\n",
    "\n",
    "#     print(\"\\n Average several models:\\n\")\n",
    "#     models = set()\n",
    "#     BackTrac(models,frozenset(),m)\n",
    "#     models = [list(mo) for mo in models]\n",
    "#     models.sort(key = lambda x: len(x))\n",
    "#     #average several models------------------------------------------------\n",
    "#     for mo in models:\n",
    "#         prediction = [predictions_ave[m] for m in mo] \n",
    "#         prediction = np.mean(prediction, axis=0)\n",
    "#         eval_pred = prediction, labels\n",
    "#         print(mo, compute_metrics(eval_pred))\n",
    "\n",
    "#     # Weighted by Pearson correlation\n",
    "#     #Weighted average by pearson correlation--------------------------------\n",
    "#     print(\"\\n Weighted average by pearson correlation:\\n\")\n",
    "#     w = np.exp(pearson)/np.sum(np.exp(pearson))\n",
    "\n",
    "#     prediction = []\n",
    "\n",
    "#     for i in range(len(predictions[0])):\n",
    "#         temp = 0\n",
    "#         for j in range(len(predictions)):\n",
    "#             temp += predictions[j][i]*w[j]\n",
    "#         prediction.append(temp)\n",
    "\n",
    "#     eval_pred = np.array(prediction), labels\n",
    "#     print(compute_metrics(eval_pred))\n",
    "\n",
    "    # Save predictions for self testing--------------------------------------\n",
    "    pre = dict()\n",
    "    for i in range(len(predictions)):\n",
    "        pre[f\"{i}\"] = predictions[i]\n",
    "\n",
    "    pre[\"label\"] = np.array(labels)\n",
    "    pre2 = datasets.Dataset.from_dict(pre)\n",
    "\n",
    "    pre2.to_csv('predictions.csv', index=False)"
   ]
  },
  {
   "cell_type": "markdown",
   "id": "9065e1cb",
   "metadata": {
    "papermill": {
     "duration": 0.050869,
     "end_time": "2022-06-08T17:01:27.896136",
     "exception": false,
     "start_time": "2022-06-08T17:01:27.845267",
     "status": "completed"
    },
    "tags": []
   },
   "source": [
    "# Save to submission"
   ]
  },
  {
   "cell_type": "code",
   "execution_count": 15,
   "id": "dc83e41c",
   "metadata": {
    "execution": {
     "iopub.execute_input": "2022-06-08T17:01:28.007276Z",
     "iopub.status.busy": "2022-06-08T17:01:28.006243Z",
     "iopub.status.idle": "2022-06-08T17:01:28.080970Z",
     "shell.execute_reply": "2022-06-08T17:01:28.081438Z",
     "shell.execute_reply.started": "2022-06-08T16:40:34.065257Z"
    },
    "papermill": {
     "duration": 0.134108,
     "end_time": "2022-06-08T17:01:28.081607",
     "exception": false,
     "start_time": "2022-06-08T17:01:27.947499",
     "status": "completed"
    },
    "tags": []
   },
   "outputs": [
    {
     "data": {
      "application/vnd.jupyter.widget-view+json": {
       "model_id": "b64f717dba2a4e7db5553c3651aef4e8",
       "version_major": 2,
       "version_minor": 0
      },
      "text/plain": [
       "Creating CSV from Arrow format:   0%|          | 0/1 [00:00<?, ?ba/s]"
      ]
     },
     "metadata": {},
     "output_type": "display_data"
    },
    {
     "data": {
      "text/plain": [
       "Dataset({\n",
       "    features: ['id', 'score'],\n",
       "    num_rows: 36\n",
       "})"
      ]
     },
     "execution_count": 15,
     "metadata": {},
     "output_type": "execute_result"
    }
   ],
   "source": [
    "#prediction = np.mean(predictions, axis=0)\n",
    "prediction = np.mean(predictions, axis=0)\n",
    "submission = datasets.Dataset.from_dict({\n",
    "    'id': test_df['id'],\n",
    "    'score': prediction,\n",
    "})\n",
    "\n",
    "#submission[['score']] = MinMaxScaler().fit_transform(submission[['score']])\n",
    "submission.to_csv('submission.csv', index=False)\n",
    "submission"
   ]
  }
 ],
 "metadata": {
  "kernelspec": {
   "display_name": "Python 3",
   "language": "python",
   "name": "python3"
  },
  "language_info": {
   "codemirror_mode": {
    "name": "ipython",
    "version": 3
   },
   "file_extension": ".py",
   "mimetype": "text/x-python",
   "name": "python",
   "nbconvert_exporter": "python",
   "pygments_lexer": "ipython3",
   "version": "3.7.12"
  },
  "papermill": {
   "default_parameters": {},
   "duration": 98.407843,
   "end_time": "2022-06-08T17:01:31.894244",
   "environment_variables": {},
   "exception": null,
   "input_path": "__notebook__.ipynb",
   "output_path": "__notebook__.ipynb",
   "parameters": {},
   "start_time": "2022-06-08T16:59:53.486401",
   "version": "2.3.3"
  },
  "widgets": {
   "application/vnd.jupyter.widget-state+json": {
    "state": {
     "20317a41ae1b4a799bc3969536d3a748": {
      "model_module": "@jupyter-widgets/controls",
      "model_module_version": "1.5.0",
      "model_name": "HTMLModel",
      "state": {
       "_dom_classes": [],
       "_model_module": "@jupyter-widgets/controls",
       "_model_module_version": "1.5.0",
       "_model_name": "HTMLModel",
       "_view_count": null,
       "_view_module": "@jupyter-widgets/controls",
       "_view_module_version": "1.5.0",
       "_view_name": "HTMLView",
       "description": "",
       "description_tooltip": null,
       "layout": "IPY_MODEL_2860536a21db41cd9ebdb31065036280",
       "placeholder": "​",
       "style": "IPY_MODEL_d98bb2420550498a86d8be84e448c178",
       "value": " 1/1 [00:00&lt;00:00, 25.00ba/s]"
      }
     },
     "2860536a21db41cd9ebdb31065036280": {
      "model_module": "@jupyter-widgets/base",
      "model_module_version": "1.2.0",
      "model_name": "LayoutModel",
      "state": {
       "_model_module": "@jupyter-widgets/base",
       "_model_module_version": "1.2.0",
       "_model_name": "LayoutModel",
       "_view_count": null,
       "_view_module": "@jupyter-widgets/base",
       "_view_module_version": "1.2.0",
       "_view_name": "LayoutView",
       "align_content": null,
       "align_items": null,
       "align_self": null,
       "border": null,
       "bottom": null,
       "display": null,
       "flex": null,
       "flex_flow": null,
       "grid_area": null,
       "grid_auto_columns": null,
       "grid_auto_flow": null,
       "grid_auto_rows": null,
       "grid_column": null,
       "grid_gap": null,
       "grid_row": null,
       "grid_template_areas": null,
       "grid_template_columns": null,
       "grid_template_rows": null,
       "height": null,
       "justify_content": null,
       "justify_items": null,
       "left": null,
       "margin": null,
       "max_height": null,
       "max_width": null,
       "min_height": null,
       "min_width": null,
       "object_fit": null,
       "object_position": null,
       "order": null,
       "overflow": null,
       "overflow_x": null,
       "overflow_y": null,
       "padding": null,
       "right": null,
       "top": null,
       "visibility": null,
       "width": null
      }
     },
     "4d77393961c44a2393d0d652e6d6e424": {
      "model_module": "@jupyter-widgets/base",
      "model_module_version": "1.2.0",
      "model_name": "LayoutModel",
      "state": {
       "_model_module": "@jupyter-widgets/base",
       "_model_module_version": "1.2.0",
       "_model_name": "LayoutModel",
       "_view_count": null,
       "_view_module": "@jupyter-widgets/base",
       "_view_module_version": "1.2.0",
       "_view_name": "LayoutView",
       "align_content": null,
       "align_items": null,
       "align_self": null,
       "border": null,
       "bottom": null,
       "display": null,
       "flex": null,
       "flex_flow": null,
       "grid_area": null,
       "grid_auto_columns": null,
       "grid_auto_flow": null,
       "grid_auto_rows": null,
       "grid_column": null,
       "grid_gap": null,
       "grid_row": null,
       "grid_template_areas": null,
       "grid_template_columns": null,
       "grid_template_rows": null,
       "height": null,
       "justify_content": null,
       "justify_items": null,
       "left": null,
       "margin": null,
       "max_height": null,
       "max_width": null,
       "min_height": null,
       "min_width": null,
       "object_fit": null,
       "object_position": null,
       "order": null,
       "overflow": null,
       "overflow_x": null,
       "overflow_y": null,
       "padding": null,
       "right": null,
       "top": null,
       "visibility": null,
       "width": null
      }
     },
     "597d29ac58384a66ada276784cc6d647": {
      "model_module": "@jupyter-widgets/controls",
      "model_module_version": "1.5.0",
      "model_name": "ProgressStyleModel",
      "state": {
       "_model_module": "@jupyter-widgets/controls",
       "_model_module_version": "1.5.0",
       "_model_name": "ProgressStyleModel",
       "_view_count": null,
       "_view_module": "@jupyter-widgets/base",
       "_view_module_version": "1.2.0",
       "_view_name": "StyleView",
       "bar_color": null,
       "description_width": ""
      }
     },
     "6879deb8c1984b53835b48d10ae86170": {
      "model_module": "@jupyter-widgets/controls",
      "model_module_version": "1.5.0",
      "model_name": "FloatProgressModel",
      "state": {
       "_dom_classes": [],
       "_model_module": "@jupyter-widgets/controls",
       "_model_module_version": "1.5.0",
       "_model_name": "FloatProgressModel",
       "_view_count": null,
       "_view_module": "@jupyter-widgets/controls",
       "_view_module_version": "1.5.0",
       "_view_name": "ProgressView",
       "bar_style": "success",
       "description": "",
       "description_tooltip": null,
       "layout": "IPY_MODEL_83461aa8aee04cc5a0c035b79fb65437",
       "max": 1,
       "min": 0,
       "orientation": "horizontal",
       "style": "IPY_MODEL_597d29ac58384a66ada276784cc6d647",
       "value": 1
      }
     },
     "83461aa8aee04cc5a0c035b79fb65437": {
      "model_module": "@jupyter-widgets/base",
      "model_module_version": "1.2.0",
      "model_name": "LayoutModel",
      "state": {
       "_model_module": "@jupyter-widgets/base",
       "_model_module_version": "1.2.0",
       "_model_name": "LayoutModel",
       "_view_count": null,
       "_view_module": "@jupyter-widgets/base",
       "_view_module_version": "1.2.0",
       "_view_name": "LayoutView",
       "align_content": null,
       "align_items": null,
       "align_self": null,
       "border": null,
       "bottom": null,
       "display": null,
       "flex": null,
       "flex_flow": null,
       "grid_area": null,
       "grid_auto_columns": null,
       "grid_auto_flow": null,
       "grid_auto_rows": null,
       "grid_column": null,
       "grid_gap": null,
       "grid_row": null,
       "grid_template_areas": null,
       "grid_template_columns": null,
       "grid_template_rows": null,
       "height": null,
       "justify_content": null,
       "justify_items": null,
       "left": null,
       "margin": null,
       "max_height": null,
       "max_width": null,
       "min_height": null,
       "min_width": null,
       "object_fit": null,
       "object_position": null,
       "order": null,
       "overflow": null,
       "overflow_x": null,
       "overflow_y": null,
       "padding": null,
       "right": null,
       "top": null,
       "visibility": null,
       "width": null
      }
     },
     "8f602937af5b42969a0ff37fba0ff015": {
      "model_module": "@jupyter-widgets/controls",
      "model_module_version": "1.5.0",
      "model_name": "DescriptionStyleModel",
      "state": {
       "_model_module": "@jupyter-widgets/controls",
       "_model_module_version": "1.5.0",
       "_model_name": "DescriptionStyleModel",
       "_view_count": null,
       "_view_module": "@jupyter-widgets/base",
       "_view_module_version": "1.2.0",
       "_view_name": "StyleView",
       "description_width": ""
      }
     },
     "b64f717dba2a4e7db5553c3651aef4e8": {
      "model_module": "@jupyter-widgets/controls",
      "model_module_version": "1.5.0",
      "model_name": "HBoxModel",
      "state": {
       "_dom_classes": [],
       "_model_module": "@jupyter-widgets/controls",
       "_model_module_version": "1.5.0",
       "_model_name": "HBoxModel",
       "_view_count": null,
       "_view_module": "@jupyter-widgets/controls",
       "_view_module_version": "1.5.0",
       "_view_name": "HBoxView",
       "box_style": "",
       "children": [
        "IPY_MODEL_f0a8e295ce9f4be3964759350e08a495",
        "IPY_MODEL_6879deb8c1984b53835b48d10ae86170",
        "IPY_MODEL_20317a41ae1b4a799bc3969536d3a748"
       ],
       "layout": "IPY_MODEL_4d77393961c44a2393d0d652e6d6e424"
      }
     },
     "d98bb2420550498a86d8be84e448c178": {
      "model_module": "@jupyter-widgets/controls",
      "model_module_version": "1.5.0",
      "model_name": "DescriptionStyleModel",
      "state": {
       "_model_module": "@jupyter-widgets/controls",
       "_model_module_version": "1.5.0",
       "_model_name": "DescriptionStyleModel",
       "_view_count": null,
       "_view_module": "@jupyter-widgets/base",
       "_view_module_version": "1.2.0",
       "_view_name": "StyleView",
       "description_width": ""
      }
     },
     "eccea01ff1a24a23b5398bb299385ad9": {
      "model_module": "@jupyter-widgets/base",
      "model_module_version": "1.2.0",
      "model_name": "LayoutModel",
      "state": {
       "_model_module": "@jupyter-widgets/base",
       "_model_module_version": "1.2.0",
       "_model_name": "LayoutModel",
       "_view_count": null,
       "_view_module": "@jupyter-widgets/base",
       "_view_module_version": "1.2.0",
       "_view_name": "LayoutView",
       "align_content": null,
       "align_items": null,
       "align_self": null,
       "border": null,
       "bottom": null,
       "display": null,
       "flex": null,
       "flex_flow": null,
       "grid_area": null,
       "grid_auto_columns": null,
       "grid_auto_flow": null,
       "grid_auto_rows": null,
       "grid_column": null,
       "grid_gap": null,
       "grid_row": null,
       "grid_template_areas": null,
       "grid_template_columns": null,
       "grid_template_rows": null,
       "height": null,
       "justify_content": null,
       "justify_items": null,
       "left": null,
       "margin": null,
       "max_height": null,
       "max_width": null,
       "min_height": null,
       "min_width": null,
       "object_fit": null,
       "object_position": null,
       "order": null,
       "overflow": null,
       "overflow_x": null,
       "overflow_y": null,
       "padding": null,
       "right": null,
       "top": null,
       "visibility": null,
       "width": null
      }
     },
     "f0a8e295ce9f4be3964759350e08a495": {
      "model_module": "@jupyter-widgets/controls",
      "model_module_version": "1.5.0",
      "model_name": "HTMLModel",
      "state": {
       "_dom_classes": [],
       "_model_module": "@jupyter-widgets/controls",
       "_model_module_version": "1.5.0",
       "_model_name": "HTMLModel",
       "_view_count": null,
       "_view_module": "@jupyter-widgets/controls",
       "_view_module_version": "1.5.0",
       "_view_name": "HTMLView",
       "description": "",
       "description_tooltip": null,
       "layout": "IPY_MODEL_eccea01ff1a24a23b5398bb299385ad9",
       "placeholder": "​",
       "style": "IPY_MODEL_8f602937af5b42969a0ff37fba0ff015",
       "value": "Creating CSV from Arrow format: 100%"
      }
     }
    },
    "version_major": 2,
    "version_minor": 0
   }
  }
 },
 "nbformat": 4,
 "nbformat_minor": 5
}
