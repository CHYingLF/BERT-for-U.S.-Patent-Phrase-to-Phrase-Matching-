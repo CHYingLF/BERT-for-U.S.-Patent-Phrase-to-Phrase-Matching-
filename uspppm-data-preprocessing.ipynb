{
 "cells": [
  {
   "cell_type": "code",
   "execution_count": 1,
   "id": "8e148db7",
   "metadata": {
    "_cell_guid": "b1076dfc-b9ad-4769-8c92-a6c4dae69d19",
    "_uuid": "8f2839f25d086af736a60e9eeb907d3b93b6e0e5",
    "execution": {
     "iopub.execute_input": "2022-06-07T18:13:12.903061Z",
     "iopub.status.busy": "2022-06-07T18:13:12.901779Z",
     "iopub.status.idle": "2022-06-07T18:13:16.199778Z",
     "shell.execute_reply": "2022-06-07T18:13:16.198659Z"
    },
    "papermill": {
     "duration": 3.309729,
     "end_time": "2022-06-07T18:13:16.202499",
     "exception": false,
     "start_time": "2022-06-07T18:13:12.892770",
     "status": "completed"
    },
    "tags": []
   },
   "outputs": [],
   "source": [
    "import pandas as pd\n",
    "from termcolor import colored\n",
    "import matplotlib.pyplot as plt\n",
    "import seaborn as sns\n",
    "import plotly.express as px\n",
    "from wordcloud import WordCloud, STOPWORDS\n",
    "import numpy as np\n",
    "import bq_helper\n",
    "from bq_helper import BigQueryHelper\n",
    "import string\n",
    "import pandas as pd\n",
    "from nltk.stem.snowball import SnowballStemmer\n",
    "\n",
    "import warnings\n",
    "warnings.filterwarnings(\"ignore\")\n",
    "\n",
    "seed = 1996"
   ]
  },
  {
   "cell_type": "code",
   "execution_count": 2,
   "id": "e6bacb50",
   "metadata": {
    "execution": {
     "iopub.execute_input": "2022-06-07T18:13:16.218674Z",
     "iopub.status.busy": "2022-06-07T18:13:16.217751Z",
     "iopub.status.idle": "2022-06-07T18:13:16.339507Z",
     "shell.execute_reply": "2022-06-07T18:13:16.338241Z"
    },
    "papermill": {
     "duration": 0.13235,
     "end_time": "2022-06-07T18:13:16.341864",
     "exception": false,
     "start_time": "2022-06-07T18:13:16.209514",
     "status": "completed"
    },
    "tags": []
   },
   "outputs": [],
   "source": [
    "train_df = pd.read_csv(\"../input/us-patent-phrase-to-phrase-matching/train.csv\")\n",
    "test_df = pd.read_csv(\"../input/us-patent-phrase-to-phrase-matching/test.csv\")"
   ]
  },
  {
   "cell_type": "code",
   "execution_count": 3,
   "id": "906cb4e2",
   "metadata": {
    "execution": {
     "iopub.execute_input": "2022-06-07T18:13:16.356150Z",
     "iopub.status.busy": "2022-06-07T18:13:16.355724Z",
     "iopub.status.idle": "2022-06-07T18:13:16.361534Z",
     "shell.execute_reply": "2022-06-07T18:13:16.360483Z"
    },
    "papermill": {
     "duration": 0.015871,
     "end_time": "2022-06-07T18:13:16.364379",
     "exception": false,
     "start_time": "2022-06-07T18:13:16.348508",
     "status": "completed"
    },
    "tags": []
   },
   "outputs": [
    {
     "name": "stdout",
     "output_type": "stream",
     "text": [
      "Number of observations in TRAIN: \u001b[33m(36473, 5)\u001b[0m\n",
      "Number of observations in TEST: \u001b[33m(36, 4)\u001b[0m\n"
     ]
    }
   ],
   "source": [
    "print(f\"Number of observations in TRAIN: {colored(train_df.shape, 'yellow')}\")\n",
    "print(f\"Number of observations in TEST: {colored(test_df.shape, 'yellow')}\")"
   ]
  },
  {
   "cell_type": "code",
   "execution_count": 4,
   "id": "5c393527",
   "metadata": {
    "execution": {
     "iopub.execute_input": "2022-06-07T18:13:16.379035Z",
     "iopub.status.busy": "2022-06-07T18:13:16.378394Z",
     "iopub.status.idle": "2022-06-07T18:13:16.396580Z",
     "shell.execute_reply": "2022-06-07T18:13:16.395843Z"
    },
    "papermill": {
     "duration": 0.027671,
     "end_time": "2022-06-07T18:13:16.398600",
     "exception": false,
     "start_time": "2022-06-07T18:13:16.370929",
     "status": "completed"
    },
    "tags": []
   },
   "outputs": [
    {
     "data": {
      "text/plain": [
       "array([0.5 , 0.75, 0.25, 0.  , 1.  ])"
      ]
     },
     "execution_count": 4,
     "metadata": {},
     "output_type": "execute_result"
    }
   ],
   "source": [
    "train_df['score'].unique()"
   ]
  },
  {
   "cell_type": "code",
   "execution_count": 5,
   "id": "dc27b30f",
   "metadata": {
    "execution": {
     "iopub.execute_input": "2022-06-07T18:13:16.413401Z",
     "iopub.status.busy": "2022-06-07T18:13:16.412642Z",
     "iopub.status.idle": "2022-06-07T18:13:16.423311Z",
     "shell.execute_reply": "2022-06-07T18:13:16.422323Z"
    },
    "papermill": {
     "duration": 0.020336,
     "end_time": "2022-06-07T18:13:16.425251",
     "exception": false,
     "start_time": "2022-06-07T18:13:16.404915",
     "status": "completed"
    },
    "tags": []
   },
   "outputs": [
    {
     "data": {
      "text/plain": [
       "0.50    12300\n",
       "0.25    11519\n",
       "0.00     7471\n",
       "0.75     4029\n",
       "1.00     1154\n",
       "Name: score, dtype: int64"
      ]
     },
     "execution_count": 5,
     "metadata": {},
     "output_type": "execute_result"
    }
   ],
   "source": [
    "train_df.score.value_counts()"
   ]
  },
  {
   "cell_type": "code",
   "execution_count": 6,
   "id": "b7f0b238",
   "metadata": {
    "execution": {
     "iopub.execute_input": "2022-06-07T18:13:16.439728Z",
     "iopub.status.busy": "2022-06-07T18:13:16.439308Z",
     "iopub.status.idle": "2022-06-07T18:13:16.455491Z",
     "shell.execute_reply": "2022-06-07T18:13:16.454420Z"
    },
    "papermill": {
     "duration": 0.026062,
     "end_time": "2022-06-07T18:13:16.457696",
     "exception": false,
     "start_time": "2022-06-07T18:13:16.431634",
     "status": "completed"
    },
    "tags": []
   },
   "outputs": [
    {
     "data": {
      "text/html": [
       "<div>\n",
       "<style scoped>\n",
       "    .dataframe tbody tr th:only-of-type {\n",
       "        vertical-align: middle;\n",
       "    }\n",
       "\n",
       "    .dataframe tbody tr th {\n",
       "        vertical-align: top;\n",
       "    }\n",
       "\n",
       "    .dataframe thead th {\n",
       "        text-align: right;\n",
       "    }\n",
       "</style>\n",
       "<table border=\"1\" class=\"dataframe\">\n",
       "  <thead>\n",
       "    <tr style=\"text-align: right;\">\n",
       "      <th></th>\n",
       "      <th>id</th>\n",
       "      <th>anchor</th>\n",
       "      <th>target</th>\n",
       "      <th>context</th>\n",
       "      <th>score</th>\n",
       "    </tr>\n",
       "  </thead>\n",
       "  <tbody>\n",
       "    <tr>\n",
       "      <th>0</th>\n",
       "      <td>37d61fd2272659b1</td>\n",
       "      <td>abatement</td>\n",
       "      <td>abatement of pollution</td>\n",
       "      <td>A47</td>\n",
       "      <td>0.50</td>\n",
       "    </tr>\n",
       "    <tr>\n",
       "      <th>1</th>\n",
       "      <td>7b9652b17b68b7a4</td>\n",
       "      <td>abatement</td>\n",
       "      <td>act of abating</td>\n",
       "      <td>A47</td>\n",
       "      <td>0.75</td>\n",
       "    </tr>\n",
       "    <tr>\n",
       "      <th>2</th>\n",
       "      <td>36d72442aefd8232</td>\n",
       "      <td>abatement</td>\n",
       "      <td>active catalyst</td>\n",
       "      <td>A47</td>\n",
       "      <td>0.25</td>\n",
       "    </tr>\n",
       "    <tr>\n",
       "      <th>3</th>\n",
       "      <td>5296b0c19e1ce60e</td>\n",
       "      <td>abatement</td>\n",
       "      <td>eliminating process</td>\n",
       "      <td>A47</td>\n",
       "      <td>0.50</td>\n",
       "    </tr>\n",
       "    <tr>\n",
       "      <th>4</th>\n",
       "      <td>54c1e3b9184cb5b6</td>\n",
       "      <td>abatement</td>\n",
       "      <td>forest region</td>\n",
       "      <td>A47</td>\n",
       "      <td>0.00</td>\n",
       "    </tr>\n",
       "  </tbody>\n",
       "</table>\n",
       "</div>"
      ],
      "text/plain": [
       "                 id     anchor                  target context  score\n",
       "0  37d61fd2272659b1  abatement  abatement of pollution     A47   0.50\n",
       "1  7b9652b17b68b7a4  abatement          act of abating     A47   0.75\n",
       "2  36d72442aefd8232  abatement         active catalyst     A47   0.25\n",
       "3  5296b0c19e1ce60e  abatement     eliminating process     A47   0.50\n",
       "4  54c1e3b9184cb5b6  abatement           forest region     A47   0.00"
      ]
     },
     "execution_count": 6,
     "metadata": {},
     "output_type": "execute_result"
    }
   ],
   "source": [
    "train_df.head()"
   ]
  },
  {
   "cell_type": "code",
   "execution_count": null,
   "id": "7903dbd1",
   "metadata": {
    "papermill": {
     "duration": 0.006386,
     "end_time": "2022-06-07T18:13:16.470721",
     "exception": false,
     "start_time": "2022-06-07T18:13:16.464335",
     "status": "completed"
    },
    "tags": []
   },
   "outputs": [],
   "source": []
  },
  {
   "cell_type": "markdown",
   "id": "b96719c2",
   "metadata": {
    "papermill": {
     "duration": 0.006288,
     "end_time": "2022-06-07T18:13:16.483742",
     "exception": false,
     "start_time": "2022-06-07T18:13:16.477454",
     "status": "completed"
    },
    "tags": []
   },
   "source": [
    "# 1. Data cleaning"
   ]
  },
  {
   "cell_type": "code",
   "execution_count": 7,
   "id": "119a075a",
   "metadata": {
    "execution": {
     "iopub.execute_input": "2022-06-07T18:13:16.498926Z",
     "iopub.status.busy": "2022-06-07T18:13:16.498205Z",
     "iopub.status.idle": "2022-06-07T18:13:16.505054Z",
     "shell.execute_reply": "2022-06-07T18:13:16.504066Z"
    },
    "papermill": {
     "duration": 0.016591,
     "end_time": "2022-06-07T18:13:16.507056",
     "exception": false,
     "start_time": "2022-06-07T18:13:16.490465",
     "status": "completed"
    },
    "tags": []
   },
   "outputs": [],
   "source": [
    "# Use English stemmer.\n",
    "stemmer = SnowballStemmer(\"english\")\n",
    "\n",
    "def remove_punctuations(text):\n",
    "    for punctuation in string.punctuation:\n",
    "        text = text.replace(punctuation, '')\n",
    "    return text\n",
    "\n",
    "def remove_stopwords(text):\n",
    "    temp = ''\n",
    "    for w in text.split():\n",
    "        if w in STOPWORDS: continue\n",
    "        temp += ' ' + w\n",
    "    return temp\n",
    "\n",
    "def stemming(text):\n",
    "    temp = ''\n",
    "    for w in text.split():\n",
    "        temp += ' ' + stemmer.stem(w)\n",
    "    return temp"
   ]
  },
  {
   "cell_type": "markdown",
   "id": "38c972e7",
   "metadata": {
    "papermill": {
     "duration": 0.006356,
     "end_time": "2022-06-07T18:13:16.519829",
     "exception": false,
     "start_time": "2022-06-07T18:13:16.513473",
     "status": "completed"
    },
    "tags": []
   },
   "source": [
    "* Train data"
   ]
  },
  {
   "cell_type": "code",
   "execution_count": 8,
   "id": "6f0763c5",
   "metadata": {
    "execution": {
     "iopub.execute_input": "2022-06-07T18:13:16.535702Z",
     "iopub.status.busy": "2022-06-07T18:13:16.535007Z",
     "iopub.status.idle": "2022-06-07T18:13:18.894953Z",
     "shell.execute_reply": "2022-06-07T18:13:18.893993Z"
    },
    "papermill": {
     "duration": 2.370742,
     "end_time": "2022-06-07T18:13:18.897355",
     "exception": false,
     "start_time": "2022-06-07T18:13:16.526613",
     "status": "completed"
    },
    "tags": []
   },
   "outputs": [
    {
     "data": {
      "text/html": [
       "<div>\n",
       "<style scoped>\n",
       "    .dataframe tbody tr th:only-of-type {\n",
       "        vertical-align: middle;\n",
       "    }\n",
       "\n",
       "    .dataframe tbody tr th {\n",
       "        vertical-align: top;\n",
       "    }\n",
       "\n",
       "    .dataframe thead th {\n",
       "        text-align: right;\n",
       "    }\n",
       "</style>\n",
       "<table border=\"1\" class=\"dataframe\">\n",
       "  <thead>\n",
       "    <tr style=\"text-align: right;\">\n",
       "      <th></th>\n",
       "      <th>id</th>\n",
       "      <th>anchor</th>\n",
       "      <th>target</th>\n",
       "      <th>context</th>\n",
       "      <th>score</th>\n",
       "      <th>target1</th>\n",
       "      <th>anchor1</th>\n",
       "    </tr>\n",
       "  </thead>\n",
       "  <tbody>\n",
       "    <tr>\n",
       "      <th>0</th>\n",
       "      <td>37d61fd2272659b1</td>\n",
       "      <td>abatement</td>\n",
       "      <td>abatement of pollution</td>\n",
       "      <td>A47</td>\n",
       "      <td>0.50</td>\n",
       "      <td>abat pollut</td>\n",
       "      <td>abat</td>\n",
       "    </tr>\n",
       "    <tr>\n",
       "      <th>1</th>\n",
       "      <td>7b9652b17b68b7a4</td>\n",
       "      <td>abatement</td>\n",
       "      <td>act of abating</td>\n",
       "      <td>A47</td>\n",
       "      <td>0.75</td>\n",
       "      <td>act abat</td>\n",
       "      <td>abat</td>\n",
       "    </tr>\n",
       "    <tr>\n",
       "      <th>2</th>\n",
       "      <td>36d72442aefd8232</td>\n",
       "      <td>abatement</td>\n",
       "      <td>active catalyst</td>\n",
       "      <td>A47</td>\n",
       "      <td>0.25</td>\n",
       "      <td>activ catalyst</td>\n",
       "      <td>abat</td>\n",
       "    </tr>\n",
       "    <tr>\n",
       "      <th>3</th>\n",
       "      <td>5296b0c19e1ce60e</td>\n",
       "      <td>abatement</td>\n",
       "      <td>eliminating process</td>\n",
       "      <td>A47</td>\n",
       "      <td>0.50</td>\n",
       "      <td>elimin process</td>\n",
       "      <td>abat</td>\n",
       "    </tr>\n",
       "    <tr>\n",
       "      <th>4</th>\n",
       "      <td>54c1e3b9184cb5b6</td>\n",
       "      <td>abatement</td>\n",
       "      <td>forest region</td>\n",
       "      <td>A47</td>\n",
       "      <td>0.00</td>\n",
       "      <td>forest region</td>\n",
       "      <td>abat</td>\n",
       "    </tr>\n",
       "    <tr>\n",
       "      <th>...</th>\n",
       "      <td>...</td>\n",
       "      <td>...</td>\n",
       "      <td>...</td>\n",
       "      <td>...</td>\n",
       "      <td>...</td>\n",
       "      <td>...</td>\n",
       "      <td>...</td>\n",
       "    </tr>\n",
       "    <tr>\n",
       "      <th>36468</th>\n",
       "      <td>8e1386cbefd7f245</td>\n",
       "      <td>wood article</td>\n",
       "      <td>wooden article</td>\n",
       "      <td>B44</td>\n",
       "      <td>1.00</td>\n",
       "      <td>wooden articl</td>\n",
       "      <td>wood articl</td>\n",
       "    </tr>\n",
       "    <tr>\n",
       "      <th>36469</th>\n",
       "      <td>42d9e032d1cd3242</td>\n",
       "      <td>wood article</td>\n",
       "      <td>wooden box</td>\n",
       "      <td>B44</td>\n",
       "      <td>0.50</td>\n",
       "      <td>wooden box</td>\n",
       "      <td>wood articl</td>\n",
       "    </tr>\n",
       "    <tr>\n",
       "      <th>36470</th>\n",
       "      <td>208654ccb9e14fa3</td>\n",
       "      <td>wood article</td>\n",
       "      <td>wooden handle</td>\n",
       "      <td>B44</td>\n",
       "      <td>0.50</td>\n",
       "      <td>wooden handl</td>\n",
       "      <td>wood articl</td>\n",
       "    </tr>\n",
       "    <tr>\n",
       "      <th>36471</th>\n",
       "      <td>756ec035e694722b</td>\n",
       "      <td>wood article</td>\n",
       "      <td>wooden material</td>\n",
       "      <td>B44</td>\n",
       "      <td>0.75</td>\n",
       "      <td>wooden materi</td>\n",
       "      <td>wood articl</td>\n",
       "    </tr>\n",
       "    <tr>\n",
       "      <th>36472</th>\n",
       "      <td>8d135da0b55b8c88</td>\n",
       "      <td>wood article</td>\n",
       "      <td>wooden substrate</td>\n",
       "      <td>B44</td>\n",
       "      <td>0.50</td>\n",
       "      <td>wooden substrat</td>\n",
       "      <td>wood articl</td>\n",
       "    </tr>\n",
       "  </tbody>\n",
       "</table>\n",
       "<p>36473 rows × 7 columns</p>\n",
       "</div>"
      ],
      "text/plain": [
       "                     id        anchor                  target context  score  \\\n",
       "0      37d61fd2272659b1     abatement  abatement of pollution     A47   0.50   \n",
       "1      7b9652b17b68b7a4     abatement          act of abating     A47   0.75   \n",
       "2      36d72442aefd8232     abatement         active catalyst     A47   0.25   \n",
       "3      5296b0c19e1ce60e     abatement     eliminating process     A47   0.50   \n",
       "4      54c1e3b9184cb5b6     abatement           forest region     A47   0.00   \n",
       "...                 ...           ...                     ...     ...    ...   \n",
       "36468  8e1386cbefd7f245  wood article          wooden article     B44   1.00   \n",
       "36469  42d9e032d1cd3242  wood article              wooden box     B44   0.50   \n",
       "36470  208654ccb9e14fa3  wood article           wooden handle     B44   0.50   \n",
       "36471  756ec035e694722b  wood article         wooden material     B44   0.75   \n",
       "36472  8d135da0b55b8c88  wood article        wooden substrate     B44   0.50   \n",
       "\n",
       "                target1       anchor1  \n",
       "0           abat pollut          abat  \n",
       "1              act abat          abat  \n",
       "2        activ catalyst          abat  \n",
       "3        elimin process          abat  \n",
       "4         forest region          abat  \n",
       "...                 ...           ...  \n",
       "36468     wooden articl   wood articl  \n",
       "36469        wooden box   wood articl  \n",
       "36470      wooden handl   wood articl  \n",
       "36471     wooden materi   wood articl  \n",
       "36472   wooden substrat   wood articl  \n",
       "\n",
       "[36473 rows x 7 columns]"
      ]
     },
     "execution_count": 8,
     "metadata": {},
     "output_type": "execute_result"
    }
   ],
   "source": [
    "train_df['target1'] =  train_df.target.apply(remove_punctuations)\n",
    "train_df['target1'] =  train_df.target1.apply(remove_stopwords)\n",
    "train_df['target1'] =  train_df.target1.apply(stemming)\n",
    "\n",
    "train_df['anchor1'] =  train_df.anchor.apply(remove_punctuations)\n",
    "train_df['anchor1'] =  train_df.anchor1.apply(remove_stopwords)\n",
    "train_df['anchor1'] =  train_df.anchor1.apply(stemming)\n",
    "\n",
    "train_df"
   ]
  },
  {
   "cell_type": "markdown",
   "id": "7c7ab2fb",
   "metadata": {
    "papermill": {
     "duration": 0.006446,
     "end_time": "2022-06-07T18:13:18.911354",
     "exception": false,
     "start_time": "2022-06-07T18:13:18.904908",
     "status": "completed"
    },
    "tags": []
   },
   "source": [
    "* CPC data"
   ]
  },
  {
   "cell_type": "code",
   "execution_count": 9,
   "id": "f1244d9f",
   "metadata": {
    "execution": {
     "iopub.execute_input": "2022-06-07T18:13:18.926579Z",
     "iopub.status.busy": "2022-06-07T18:13:18.926138Z",
     "iopub.status.idle": "2022-06-07T18:13:19.872298Z",
     "shell.execute_reply": "2022-06-07T18:13:19.871236Z"
    },
    "papermill": {
     "duration": 0.956931,
     "end_time": "2022-06-07T18:13:19.874879",
     "exception": false,
     "start_time": "2022-06-07T18:13:18.917948",
     "status": "completed"
    },
    "tags": []
   },
   "outputs": [],
   "source": [
    "titles = pd.read_csv('../input/cpc-codes/titles.csv')"
   ]
  },
  {
   "cell_type": "code",
   "execution_count": 10,
   "id": "0d40bbce",
   "metadata": {
    "execution": {
     "iopub.execute_input": "2022-06-07T18:13:19.890554Z",
     "iopub.status.busy": "2022-06-07T18:13:19.890113Z",
     "iopub.status.idle": "2022-06-07T18:13:40.652530Z",
     "shell.execute_reply": "2022-06-07T18:13:40.651834Z"
    },
    "papermill": {
     "duration": 20.772512,
     "end_time": "2022-06-07T18:13:40.654244",
     "exception": false,
     "start_time": "2022-06-07T18:13:19.881732",
     "status": "completed"
    },
    "tags": []
   },
   "outputs": [
    {
     "data": {
      "text/html": [
       "<div>\n",
       "<style scoped>\n",
       "    .dataframe tbody tr th:only-of-type {\n",
       "        vertical-align: middle;\n",
       "    }\n",
       "\n",
       "    .dataframe tbody tr th {\n",
       "        vertical-align: top;\n",
       "    }\n",
       "\n",
       "    .dataframe thead th {\n",
       "        text-align: right;\n",
       "    }\n",
       "</style>\n",
       "<table border=\"1\" class=\"dataframe\">\n",
       "  <thead>\n",
       "    <tr style=\"text-align: right;\">\n",
       "      <th></th>\n",
       "      <th>code</th>\n",
       "      <th>title</th>\n",
       "      <th>section</th>\n",
       "      <th>class</th>\n",
       "      <th>subclass</th>\n",
       "      <th>group</th>\n",
       "      <th>main_group</th>\n",
       "      <th>title2</th>\n",
       "    </tr>\n",
       "  </thead>\n",
       "  <tbody>\n",
       "    <tr>\n",
       "      <th>0</th>\n",
       "      <td>A</td>\n",
       "      <td>HUMAN NECESSITIES</td>\n",
       "      <td>A</td>\n",
       "      <td>NaN</td>\n",
       "      <td>NaN</td>\n",
       "      <td>NaN</td>\n",
       "      <td>NaN</td>\n",
       "      <td>human necess</td>\n",
       "    </tr>\n",
       "    <tr>\n",
       "      <th>1</th>\n",
       "      <td>A01</td>\n",
       "      <td>AGRICULTURE; FORESTRY; ANIMAL HUSBANDRY; HUNTING; TRAPPING; FISHING</td>\n",
       "      <td>A</td>\n",
       "      <td>1.0</td>\n",
       "      <td>NaN</td>\n",
       "      <td>NaN</td>\n",
       "      <td>NaN</td>\n",
       "      <td>agricultur forestri anim husbandri hunt trap fish</td>\n",
       "    </tr>\n",
       "    <tr>\n",
       "      <th>2</th>\n",
       "      <td>A01B</td>\n",
       "      <td>SOIL WORKING IN AGRICULTURE OR FORESTRY; PARTS, DETAILS, OR ACCESSORIES OF AGRICULTURAL MACHINES OR IMPLEMENTS, IN GENERAL (making or covering furrows or holes for sowing, planting, or manuring A01C5/00; soil working for engineering purposes E01, E02, E21; {measuring areas for agricultural purposes G01B})</td>\n",
       "      <td>A</td>\n",
       "      <td>1.0</td>\n",
       "      <td>B</td>\n",
       "      <td>NaN</td>\n",
       "      <td>NaN</td>\n",
       "      <td>soil work agricultur forestri part detail accessori agricultur machin implement general make cover furrow hole sow plant manur a01c500 soil work engin purpos e01 e02 e21 measur area agricultur purpos g01b</td>\n",
       "    </tr>\n",
       "    <tr>\n",
       "      <th>3</th>\n",
       "      <td>A01B1/00</td>\n",
       "      <td>Hand tools (edge trimmers for lawns A01G3/06  {; machines for working soil A01B35/00; making hand tools B21D})</td>\n",
       "      <td>A</td>\n",
       "      <td>1.0</td>\n",
       "      <td>B</td>\n",
       "      <td>1.0</td>\n",
       "      <td>0.0</td>\n",
       "      <td>hand tool edg trimmer lawn a01g306 machin work soil a01b3500 make hand tool b21d</td>\n",
       "    </tr>\n",
       "    <tr>\n",
       "      <th>4</th>\n",
       "      <td>A01B1/02</td>\n",
       "      <td>Spades; Shovels {(hand-operated dredgers E02F3/02)}</td>\n",
       "      <td>A</td>\n",
       "      <td>1.0</td>\n",
       "      <td>B</td>\n",
       "      <td>1.0</td>\n",
       "      <td>2.0</td>\n",
       "      <td>spade shovel handoper dredger e02f302</td>\n",
       "    </tr>\n",
       "  </tbody>\n",
       "</table>\n",
       "</div>"
      ],
      "text/plain": [
       "       code  \\\n",
       "0         A   \n",
       "1       A01   \n",
       "2      A01B   \n",
       "3  A01B1/00   \n",
       "4  A01B1/02   \n",
       "\n",
       "                                                                                                                                                                                                                                                                                                                title  \\\n",
       "0                                                                                                                                                                                                                                                                                                   HUMAN NECESSITIES   \n",
       "1                                                                                                                                                                                                                                                 AGRICULTURE; FORESTRY; ANIMAL HUSBANDRY; HUNTING; TRAPPING; FISHING   \n",
       "2  SOIL WORKING IN AGRICULTURE OR FORESTRY; PARTS, DETAILS, OR ACCESSORIES OF AGRICULTURAL MACHINES OR IMPLEMENTS, IN GENERAL (making or covering furrows or holes for sowing, planting, or manuring A01C5/00; soil working for engineering purposes E01, E02, E21; {measuring areas for agricultural purposes G01B})   \n",
       "3                                                                                                                                                                                                      Hand tools (edge trimmers for lawns A01G3/06  {; machines for working soil A01B35/00; making hand tools B21D})   \n",
       "4                                                                                                                                                                                                                                                                 Spades; Shovels {(hand-operated dredgers E02F3/02)}   \n",
       "\n",
       "  section  class subclass  group  main_group  \\\n",
       "0       A    NaN      NaN    NaN         NaN   \n",
       "1       A    1.0      NaN    NaN         NaN   \n",
       "2       A    1.0        B    NaN         NaN   \n",
       "3       A    1.0        B    1.0         0.0   \n",
       "4       A    1.0        B    1.0         2.0   \n",
       "\n",
       "                                                                                                                                                                                                          title2  \n",
       "0                                                                                                                                                                                                   human necess  \n",
       "1                                                                                                                                                              agricultur forestri anim husbandri hunt trap fish  \n",
       "2   soil work agricultur forestri part detail accessori agricultur machin implement general make cover furrow hole sow plant manur a01c500 soil work engin purpos e01 e02 e21 measur area agricultur purpos g01b  \n",
       "3                                                                                                                               hand tool edg trimmer lawn a01g306 machin work soil a01b3500 make hand tool b21d  \n",
       "4                                                                                                                                                                          spade shovel handoper dredger e02f302  "
      ]
     },
     "execution_count": 10,
     "metadata": {},
     "output_type": "execute_result"
    }
   ],
   "source": [
    "pd.set_option('display.max_colwidth', None)\n",
    "titles['title2'] = titles.title.apply(remove_punctuations)\n",
    "titles['title2'] = titles.title2.str.lower()\n",
    "titles['title2'] = titles.title2.apply(remove_stopwords)\n",
    "titles['title2'] = titles.title2.apply(stemming)\n",
    "\n",
    "\n",
    "titles.head()"
   ]
  },
  {
   "cell_type": "markdown",
   "id": "9f734ab8",
   "metadata": {
    "papermill": {
     "duration": 0.009262,
     "end_time": "2022-06-07T18:13:40.672195",
     "exception": false,
     "start_time": "2022-06-07T18:13:40.662933",
     "status": "completed"
    },
    "tags": []
   },
   "source": [
    "* merge training and cpc data"
   ]
  },
  {
   "cell_type": "code",
   "execution_count": 11,
   "id": "91a939dd",
   "metadata": {
    "execution": {
     "iopub.execute_input": "2022-06-07T18:13:40.688814Z",
     "iopub.status.busy": "2022-06-07T18:13:40.687861Z",
     "iopub.status.idle": "2022-06-07T18:13:40.867474Z",
     "shell.execute_reply": "2022-06-07T18:13:40.866231Z"
    },
    "papermill": {
     "duration": 0.190597,
     "end_time": "2022-06-07T18:13:40.870001",
     "exception": false,
     "start_time": "2022-06-07T18:13:40.679404",
     "status": "completed"
    },
    "tags": []
   },
   "outputs": [
    {
     "data": {
      "text/html": [
       "<div>\n",
       "<style scoped>\n",
       "    .dataframe tbody tr th:only-of-type {\n",
       "        vertical-align: middle;\n",
       "    }\n",
       "\n",
       "    .dataframe tbody tr th {\n",
       "        vertical-align: top;\n",
       "    }\n",
       "\n",
       "    .dataframe thead th {\n",
       "        text-align: right;\n",
       "    }\n",
       "</style>\n",
       "<table border=\"1\" class=\"dataframe\">\n",
       "  <thead>\n",
       "    <tr style=\"text-align: right;\">\n",
       "      <th></th>\n",
       "      <th>score</th>\n",
       "      <th>target1</th>\n",
       "      <th>anchor1</th>\n",
       "      <th>code</th>\n",
       "      <th>section</th>\n",
       "      <th>class</th>\n",
       "      <th>title2</th>\n",
       "    </tr>\n",
       "  </thead>\n",
       "  <tbody>\n",
       "    <tr>\n",
       "      <th>0</th>\n",
       "      <td>0.50</td>\n",
       "      <td>abat pollut</td>\n",
       "      <td>abat</td>\n",
       "      <td>A47</td>\n",
       "      <td>A</td>\n",
       "      <td>47</td>\n",
       "      <td>furnitur domest articl applianc coffe mill spice mill suction cleaner general</td>\n",
       "    </tr>\n",
       "    <tr>\n",
       "      <th>1</th>\n",
       "      <td>0.75</td>\n",
       "      <td>act abat</td>\n",
       "      <td>abat</td>\n",
       "      <td>A47</td>\n",
       "      <td>A</td>\n",
       "      <td>47</td>\n",
       "      <td>furnitur domest articl applianc coffe mill spice mill suction cleaner general</td>\n",
       "    </tr>\n",
       "    <tr>\n",
       "      <th>2</th>\n",
       "      <td>0.25</td>\n",
       "      <td>activ catalyst</td>\n",
       "      <td>abat</td>\n",
       "      <td>A47</td>\n",
       "      <td>A</td>\n",
       "      <td>47</td>\n",
       "      <td>furnitur domest articl applianc coffe mill spice mill suction cleaner general</td>\n",
       "    </tr>\n",
       "    <tr>\n",
       "      <th>3</th>\n",
       "      <td>0.50</td>\n",
       "      <td>elimin process</td>\n",
       "      <td>abat</td>\n",
       "      <td>A47</td>\n",
       "      <td>A</td>\n",
       "      <td>47</td>\n",
       "      <td>furnitur domest articl applianc coffe mill spice mill suction cleaner general</td>\n",
       "    </tr>\n",
       "    <tr>\n",
       "      <th>4</th>\n",
       "      <td>0.00</td>\n",
       "      <td>forest region</td>\n",
       "      <td>abat</td>\n",
       "      <td>A47</td>\n",
       "      <td>A</td>\n",
       "      <td>47</td>\n",
       "      <td>furnitur domest articl applianc coffe mill spice mill suction cleaner general</td>\n",
       "    </tr>\n",
       "    <tr>\n",
       "      <th>...</th>\n",
       "      <td>...</td>\n",
       "      <td>...</td>\n",
       "      <td>...</td>\n",
       "      <td>...</td>\n",
       "      <td>...</td>\n",
       "      <td>...</td>\n",
       "      <td>...</td>\n",
       "    </tr>\n",
       "    <tr>\n",
       "      <th>36468</th>\n",
       "      <td>0.00</td>\n",
       "      <td>undulatori swimmer</td>\n",
       "      <td>undul</td>\n",
       "      <td>B31</td>\n",
       "      <td>B</td>\n",
       "      <td>31</td>\n",
       "      <td>make articl paper cardboard materi work manner analog paper work paper cardboard materi work manner analog paper</td>\n",
       "    </tr>\n",
       "    <tr>\n",
       "      <th>36469</th>\n",
       "      <td>0.00</td>\n",
       "      <td>voltag fluctuat</td>\n",
       "      <td>undul</td>\n",
       "      <td>B31</td>\n",
       "      <td>B</td>\n",
       "      <td>31</td>\n",
       "      <td>make articl paper cardboard materi work manner analog paper work paper cardboard materi work manner analog paper</td>\n",
       "    </tr>\n",
       "    <tr>\n",
       "      <th>36470</th>\n",
       "      <td>0.75</td>\n",
       "      <td>transfer web</td>\n",
       "      <td>web transfer</td>\n",
       "      <td>B31</td>\n",
       "      <td>B</td>\n",
       "      <td>31</td>\n",
       "      <td>make articl paper cardboard materi work manner analog paper work paper cardboard materi work manner analog paper</td>\n",
       "    </tr>\n",
       "    <tr>\n",
       "      <th>36471</th>\n",
       "      <td>0.25</td>\n",
       "      <td>transfer web</td>\n",
       "      <td>web transfer</td>\n",
       "      <td>B31</td>\n",
       "      <td>B</td>\n",
       "      <td>31</td>\n",
       "      <td>make articl paper cardboard materi work manner analog paper work paper cardboard materi work manner analog paper</td>\n",
       "    </tr>\n",
       "    <tr>\n",
       "      <th>36472</th>\n",
       "      <td>0.75</td>\n",
       "      <td>transfer web</td>\n",
       "      <td>web transfer</td>\n",
       "      <td>B31</td>\n",
       "      <td>B</td>\n",
       "      <td>31</td>\n",
       "      <td>make articl paper cardboard materi work manner analog paper work paper cardboard materi work manner analog paper</td>\n",
       "    </tr>\n",
       "  </tbody>\n",
       "</table>\n",
       "<p>36473 rows × 7 columns</p>\n",
       "</div>"
      ],
      "text/plain": [
       "       score              target1        anchor1 code section  class  \\\n",
       "0       0.50          abat pollut           abat  A47       A     47   \n",
       "1       0.75             act abat           abat  A47       A     47   \n",
       "2       0.25       activ catalyst           abat  A47       A     47   \n",
       "3       0.50       elimin process           abat  A47       A     47   \n",
       "4       0.00        forest region           abat  A47       A     47   \n",
       "...      ...                  ...            ...  ...     ...    ...   \n",
       "36468   0.00   undulatori swimmer          undul  B31       B     31   \n",
       "36469   0.00      voltag fluctuat          undul  B31       B     31   \n",
       "36470   0.75         transfer web   web transfer  B31       B     31   \n",
       "36471   0.25         transfer web   web transfer  B31       B     31   \n",
       "36472   0.75         transfer web   web transfer  B31       B     31   \n",
       "\n",
       "                                                                                                                  title2  \n",
       "0                                          furnitur domest articl applianc coffe mill spice mill suction cleaner general  \n",
       "1                                          furnitur domest articl applianc coffe mill spice mill suction cleaner general  \n",
       "2                                          furnitur domest articl applianc coffe mill spice mill suction cleaner general  \n",
       "3                                          furnitur domest articl applianc coffe mill spice mill suction cleaner general  \n",
       "4                                          furnitur domest articl applianc coffe mill spice mill suction cleaner general  \n",
       "...                                                                                                                  ...  \n",
       "36468   make articl paper cardboard materi work manner analog paper work paper cardboard materi work manner analog paper  \n",
       "36469   make articl paper cardboard materi work manner analog paper work paper cardboard materi work manner analog paper  \n",
       "36470   make articl paper cardboard materi work manner analog paper work paper cardboard materi work manner analog paper  \n",
       "36471   make articl paper cardboard materi work manner analog paper work paper cardboard materi work manner analog paper  \n",
       "36472   make articl paper cardboard materi work manner analog paper work paper cardboard materi work manner analog paper  \n",
       "\n",
       "[36473 rows x 7 columns]"
      ]
     },
     "execution_count": 11,
     "metadata": {},
     "output_type": "execute_result"
    }
   ],
   "source": [
    "train_df1 = train_df.merge(titles, left_on='context', right_on='code')\n",
    "train_df2 = train_df1.drop(['subclass','group','main_group', 'id','title', 'target', 'anchor', 'context'],axis = 1)\n",
    "train_df2['class'] = train_df1['class'].astype(int)\n",
    "train_df2"
   ]
  },
  {
   "cell_type": "markdown",
   "id": "96696ac4",
   "metadata": {
    "papermill": {
     "duration": 0.007163,
     "end_time": "2022-06-07T18:13:40.884861",
     "exception": false,
     "start_time": "2022-06-07T18:13:40.877698",
     "status": "completed"
    },
    "tags": []
   },
   "source": [
    "# 2. Look into each category"
   ]
  },
  {
   "cell_type": "markdown",
   "id": "de07395d",
   "metadata": {
    "papermill": {
     "duration": 0.007119,
     "end_time": "2022-06-07T18:13:40.899682",
     "exception": false,
     "start_time": "2022-06-07T18:13:40.892563",
     "status": "completed"
    },
    "tags": []
   },
   "source": [
    "* Extract each category"
   ]
  },
  {
   "cell_type": "code",
   "execution_count": null,
   "id": "1547f30e",
   "metadata": {
    "papermill": {
     "duration": 0.007144,
     "end_time": "2022-06-07T18:13:40.914154",
     "exception": false,
     "start_time": "2022-06-07T18:13:40.907010",
     "status": "completed"
    },
    "tags": []
   },
   "outputs": [],
   "source": []
  },
  {
   "cell_type": "code",
   "execution_count": 12,
   "id": "58b93444",
   "metadata": {
    "execution": {
     "iopub.execute_input": "2022-06-07T18:13:40.930569Z",
     "iopub.status.busy": "2022-06-07T18:13:40.930137Z",
     "iopub.status.idle": "2022-06-07T18:13:40.958670Z",
     "shell.execute_reply": "2022-06-07T18:13:40.957156Z"
    },
    "papermill": {
     "duration": 0.039169,
     "end_time": "2022-06-07T18:13:40.960776",
     "exception": false,
     "start_time": "2022-06-07T18:13:40.921607",
     "status": "completed"
    },
    "tags": []
   },
   "outputs": [
    {
     "name": "stdout",
     "output_type": "stream",
     "text": [
      "7471 11519 12300 4029 1154\n"
     ]
    }
   ],
   "source": [
    "train_df = train_df2\n",
    "train_00 = train_df.query('score==0.0')\n",
    "train_25 = train_df.query('score==0.25')\n",
    "train_50 = train_df.query('score==0.50')\n",
    "train_75 = train_df.query('score==0.75')\n",
    "train_100 = train_df.query('score==1.0')\n",
    "\n",
    "print(len(train_00),len(train_25),len(train_50),len(train_75),len(train_100))"
   ]
  },
  {
   "cell_type": "markdown",
   "id": "53a7f42e",
   "metadata": {
    "papermill": {
     "duration": 0.007114,
     "end_time": "2022-06-07T18:13:40.975619",
     "exception": false,
     "start_time": "2022-06-07T18:13:40.968505",
     "status": "completed"
    },
    "tags": []
   },
   "source": [
    "* Augment 0.75 cases"
   ]
  },
  {
   "cell_type": "code",
   "execution_count": 13,
   "id": "f72b3aa3",
   "metadata": {
    "execution": {
     "iopub.execute_input": "2022-06-07T18:13:40.993738Z",
     "iopub.status.busy": "2022-06-07T18:13:40.993325Z",
     "iopub.status.idle": "2022-06-07T18:13:41.010355Z",
     "shell.execute_reply": "2022-06-07T18:13:41.009260Z"
    },
    "papermill": {
     "duration": 0.028719,
     "end_time": "2022-06-07T18:13:41.012479",
     "exception": false,
     "start_time": "2022-06-07T18:13:40.983760",
     "status": "completed"
    },
    "tags": []
   },
   "outputs": [
    {
     "data": {
      "text/html": [
       "<div>\n",
       "<style scoped>\n",
       "    .dataframe tbody tr th:only-of-type {\n",
       "        vertical-align: middle;\n",
       "    }\n",
       "\n",
       "    .dataframe tbody tr th {\n",
       "        vertical-align: top;\n",
       "    }\n",
       "\n",
       "    .dataframe thead th {\n",
       "        text-align: right;\n",
       "    }\n",
       "</style>\n",
       "<table border=\"1\" class=\"dataframe\">\n",
       "  <thead>\n",
       "    <tr style=\"text-align: right;\">\n",
       "      <th></th>\n",
       "      <th>score</th>\n",
       "      <th>target1</th>\n",
       "      <th>anchor1</th>\n",
       "      <th>code</th>\n",
       "      <th>section</th>\n",
       "      <th>class</th>\n",
       "      <th>title2</th>\n",
       "    </tr>\n",
       "  </thead>\n",
       "  <tbody>\n",
       "    <tr>\n",
       "      <th>15657</th>\n",
       "      <td>0.75</td>\n",
       "      <td>time seri graph</td>\n",
       "      <td>board id</td>\n",
       "      <td>G01</td>\n",
       "      <td>G</td>\n",
       "      <td>1</td>\n",
       "      <td>measur test</td>\n",
       "    </tr>\n",
       "    <tr>\n",
       "      <th>21940</th>\n",
       "      <td>0.75</td>\n",
       "      <td>work height</td>\n",
       "      <td>oper height</td>\n",
       "      <td>B61</td>\n",
       "      <td>B</td>\n",
       "      <td>61</td>\n",
       "      <td>railway</td>\n",
       "    </tr>\n",
       "    <tr>\n",
       "      <th>29208</th>\n",
       "      <td>0.75</td>\n",
       "      <td>collat apparatus</td>\n",
       "      <td>collat</td>\n",
       "      <td>G11</td>\n",
       "      <td>G</td>\n",
       "      <td>11</td>\n",
       "      <td>inform storag</td>\n",
       "    </tr>\n",
       "    <tr>\n",
       "      <th>20987</th>\n",
       "      <td>0.75</td>\n",
       "      <td>light thick</td>\n",
       "      <td>length light</td>\n",
       "      <td>G03</td>\n",
       "      <td>G</td>\n",
       "      <td>3</td>\n",
       "      <td>photographi cinematographi analog techniqu use wave optic wave electrographi holographi</td>\n",
       "    </tr>\n",
       "    <tr>\n",
       "      <th>9413</th>\n",
       "      <td>0.75</td>\n",
       "      <td>unexpect posit</td>\n",
       "      <td>abnorm posit</td>\n",
       "      <td>D03</td>\n",
       "      <td>D</td>\n",
       "      <td>3</td>\n",
       "      <td>weav</td>\n",
       "    </tr>\n",
       "  </tbody>\n",
       "</table>\n",
       "</div>"
      ],
      "text/plain": [
       "       score            target1        anchor1 code section  class  \\\n",
       "15657   0.75    time seri graph       board id  G01       G      1   \n",
       "21940   0.75        work height    oper height  B61       B     61   \n",
       "29208   0.75   collat apparatus         collat  G11       G     11   \n",
       "20987   0.75        light thick   length light  G03       G      3   \n",
       "9413    0.75     unexpect posit   abnorm posit  D03       D      3   \n",
       "\n",
       "                                                                                         title2  \n",
       "15657                                                                               measur test  \n",
       "21940                                                                                   railway  \n",
       "29208                                                                             inform storag  \n",
       "20987   photographi cinematographi analog techniqu use wave optic wave electrographi holographi  \n",
       "9413                                                                                       weav  "
      ]
     },
     "execution_count": 13,
     "metadata": {},
     "output_type": "execute_result"
    }
   ],
   "source": [
    "Num_switch = 4000\n",
    "temp = train_75.sample(Num_switch, random_state = seed)\n",
    "temp.head()"
   ]
  },
  {
   "cell_type": "code",
   "execution_count": 14,
   "id": "a2c328db",
   "metadata": {
    "execution": {
     "iopub.execute_input": "2022-06-07T18:13:41.029451Z",
     "iopub.status.busy": "2022-06-07T18:13:41.028646Z",
     "iopub.status.idle": "2022-06-07T18:13:41.042009Z",
     "shell.execute_reply": "2022-06-07T18:13:41.041244Z"
    },
    "papermill": {
     "duration": 0.024334,
     "end_time": "2022-06-07T18:13:41.044295",
     "exception": false,
     "start_time": "2022-06-07T18:13:41.019961",
     "status": "completed"
    },
    "tags": []
   },
   "outputs": [
    {
     "data": {
      "text/html": [
       "<div>\n",
       "<style scoped>\n",
       "    .dataframe tbody tr th:only-of-type {\n",
       "        vertical-align: middle;\n",
       "    }\n",
       "\n",
       "    .dataframe tbody tr th {\n",
       "        vertical-align: top;\n",
       "    }\n",
       "\n",
       "    .dataframe thead th {\n",
       "        text-align: right;\n",
       "    }\n",
       "</style>\n",
       "<table border=\"1\" class=\"dataframe\">\n",
       "  <thead>\n",
       "    <tr style=\"text-align: right;\">\n",
       "      <th></th>\n",
       "      <th>score</th>\n",
       "      <th>target1</th>\n",
       "      <th>anchor1</th>\n",
       "      <th>code</th>\n",
       "      <th>section</th>\n",
       "      <th>class</th>\n",
       "      <th>title2</th>\n",
       "    </tr>\n",
       "  </thead>\n",
       "  <tbody>\n",
       "    <tr>\n",
       "      <th>15657</th>\n",
       "      <td>0.75</td>\n",
       "      <td>board id</td>\n",
       "      <td>time seri graph</td>\n",
       "      <td>G01</td>\n",
       "      <td>G</td>\n",
       "      <td>1</td>\n",
       "      <td>measur test</td>\n",
       "    </tr>\n",
       "    <tr>\n",
       "      <th>21940</th>\n",
       "      <td>0.75</td>\n",
       "      <td>oper height</td>\n",
       "      <td>work height</td>\n",
       "      <td>B61</td>\n",
       "      <td>B</td>\n",
       "      <td>61</td>\n",
       "      <td>railway</td>\n",
       "    </tr>\n",
       "    <tr>\n",
       "      <th>29208</th>\n",
       "      <td>0.75</td>\n",
       "      <td>collat</td>\n",
       "      <td>collat apparatus</td>\n",
       "      <td>G11</td>\n",
       "      <td>G</td>\n",
       "      <td>11</td>\n",
       "      <td>inform storag</td>\n",
       "    </tr>\n",
       "    <tr>\n",
       "      <th>20987</th>\n",
       "      <td>0.75</td>\n",
       "      <td>length light</td>\n",
       "      <td>light thick</td>\n",
       "      <td>G03</td>\n",
       "      <td>G</td>\n",
       "      <td>3</td>\n",
       "      <td>photographi cinematographi analog techniqu use wave optic wave electrographi holographi</td>\n",
       "    </tr>\n",
       "    <tr>\n",
       "      <th>9413</th>\n",
       "      <td>0.75</td>\n",
       "      <td>abnorm posit</td>\n",
       "      <td>unexpect posit</td>\n",
       "      <td>D03</td>\n",
       "      <td>D</td>\n",
       "      <td>3</td>\n",
       "      <td>weav</td>\n",
       "    </tr>\n",
       "  </tbody>\n",
       "</table>\n",
       "</div>"
      ],
      "text/plain": [
       "       score        target1            anchor1 code section  class  \\\n",
       "15657   0.75       board id    time seri graph  G01       G      1   \n",
       "21940   0.75    oper height        work height  B61       B     61   \n",
       "29208   0.75         collat   collat apparatus  G11       G     11   \n",
       "20987   0.75   length light        light thick  G03       G      3   \n",
       "9413    0.75   abnorm posit     unexpect posit  D03       D      3   \n",
       "\n",
       "                                                                                         title2  \n",
       "15657                                                                               measur test  \n",
       "21940                                                                                   railway  \n",
       "29208                                                                             inform storag  \n",
       "20987   photographi cinematographi analog techniqu use wave optic wave electrographi holographi  \n",
       "9413                                                                                       weav  "
      ]
     },
     "execution_count": 14,
     "metadata": {},
     "output_type": "execute_result"
    }
   ],
   "source": [
    "temp['anchor1'], temp['target1'] = temp['target1'].copy(), temp['anchor1'].copy()\n",
    "\n",
    "temp.head()"
   ]
  },
  {
   "cell_type": "markdown",
   "id": "004e76cd",
   "metadata": {
    "papermill": {
     "duration": 0.007564,
     "end_time": "2022-06-07T18:13:41.060124",
     "exception": false,
     "start_time": "2022-06-07T18:13:41.052560",
     "status": "completed"
    },
    "tags": []
   },
   "source": [
    "* Merge data"
   ]
  },
  {
   "cell_type": "code",
   "execution_count": 15,
   "id": "420dc153",
   "metadata": {
    "execution": {
     "iopub.execute_input": "2022-06-07T18:13:41.077962Z",
     "iopub.status.busy": "2022-06-07T18:13:41.077526Z",
     "iopub.status.idle": "2022-06-07T18:13:41.092219Z",
     "shell.execute_reply": "2022-06-07T18:13:41.091194Z"
    },
    "papermill": {
     "duration": 0.025707,
     "end_time": "2022-06-07T18:13:41.094102",
     "exception": false,
     "start_time": "2022-06-07T18:13:41.068395",
     "status": "completed"
    },
    "tags": []
   },
   "outputs": [
    {
     "data": {
      "text/plain": [
       " compon composit coat              152\n",
       " sheet suppli roller               150\n",
       " sourc voltag                      140\n",
       " perfluoroalkyl group              136\n",
       " el display                        135\n",
       "                                  ... \n",
       " shannon                             2\n",
       " dri coat composition1               2\n",
       " plug nozzl                          2\n",
       " conduct conduct materi              1\n",
       " peripher nervous system stimul      1\n",
       "Name: anchor1, Length: 733, dtype: int64"
      ]
     },
     "execution_count": 15,
     "metadata": {},
     "output_type": "execute_result"
    }
   ],
   "source": [
    "train_df['anchor1'].value_counts()"
   ]
  },
  {
   "cell_type": "code",
   "execution_count": 16,
   "id": "594663b8",
   "metadata": {
    "execution": {
     "iopub.execute_input": "2022-06-07T18:13:41.112220Z",
     "iopub.status.busy": "2022-06-07T18:13:41.111188Z",
     "iopub.status.idle": "2022-06-07T18:13:41.133432Z",
     "shell.execute_reply": "2022-06-07T18:13:41.132406Z"
    },
    "papermill": {
     "duration": 0.033505,
     "end_time": "2022-06-07T18:13:41.135552",
     "exception": false,
     "start_time": "2022-06-07T18:13:41.102047",
     "status": "completed"
    },
    "tags": []
   },
   "outputs": [
    {
     "data": {
      "text/plain": [
       " compon composit coat            152\n",
       " sheet suppli roller             150\n",
       " sourc voltag                    141\n",
       " perfluoroalkyl group            136\n",
       " el display                      135\n",
       "                                ... \n",
       " photograph light sensit film      1\n",
       " pulp cook                         1\n",
       " content analysi test              1\n",
       " inner support                     1\n",
       " sphygmomanomet devic              1\n",
       "Name: anchor1, Length: 4056, dtype: int64"
      ]
     },
     "execution_count": 16,
     "metadata": {},
     "output_type": "execute_result"
    }
   ],
   "source": [
    "#append 0.75 data\n",
    "train = train_df.append(temp)\n",
    "train.score.value_counts()\n",
    "train['anchor1'].value_counts()"
   ]
  },
  {
   "cell_type": "markdown",
   "id": "40c7ccb5",
   "metadata": {
    "papermill": {
     "duration": 0.007745,
     "end_time": "2022-06-07T18:13:41.151510",
     "exception": false,
     "start_time": "2022-06-07T18:13:41.143765",
     "status": "completed"
    },
    "tags": []
   },
   "source": [
    "* form input"
   ]
  },
  {
   "cell_type": "code",
   "execution_count": 17,
   "id": "4d7aadce",
   "metadata": {
    "execution": {
     "iopub.execute_input": "2022-06-07T18:13:41.169526Z",
     "iopub.status.busy": "2022-06-07T18:13:41.169104Z",
     "iopub.status.idle": "2022-06-07T18:13:41.174282Z",
     "shell.execute_reply": "2022-06-07T18:13:41.173369Z"
    },
    "papermill": {
     "duration": 0.016719,
     "end_time": "2022-06-07T18:13:41.176230",
     "exception": false,
     "start_time": "2022-06-07T18:13:41.159511",
     "status": "completed"
    },
    "tags": []
   },
   "outputs": [],
   "source": [
    "sections = {\"A\" : \"Human Necessities\", \n",
    "            \"B\" : \"Operations and Transport\",\n",
    "            \"C\" : \"Chemistry and Metallurgy\",\n",
    "            \"D\" : \"Textiles\",\n",
    "            \"E\" : \"Fixed Constructions\",\n",
    "            \"F\" : \"Mechanical Engineering\",\n",
    "            \"G\" : \"Physics\",\n",
    "            \"H\" : \"Electricity\",\n",
    "            \"Y\" : \"Emerging Cross-Sectional Technologies\"}"
   ]
  },
  {
   "cell_type": "code",
   "execution_count": 18,
   "id": "e7341fd4",
   "metadata": {
    "execution": {
     "iopub.execute_input": "2022-06-07T18:13:41.194521Z",
     "iopub.status.busy": "2022-06-07T18:13:41.193451Z",
     "iopub.status.idle": "2022-06-07T18:13:41.210310Z",
     "shell.execute_reply": "2022-06-07T18:13:41.209239Z"
    },
    "papermill": {
     "duration": 0.028136,
     "end_time": "2022-06-07T18:13:41.212400",
     "exception": false,
     "start_time": "2022-06-07T18:13:41.184264",
     "status": "completed"
    },
    "tags": []
   },
   "outputs": [
    {
     "data": {
      "text/html": [
       "<div>\n",
       "<style scoped>\n",
       "    .dataframe tbody tr th:only-of-type {\n",
       "        vertical-align: middle;\n",
       "    }\n",
       "\n",
       "    .dataframe tbody tr th {\n",
       "        vertical-align: top;\n",
       "    }\n",
       "\n",
       "    .dataframe thead th {\n",
       "        text-align: right;\n",
       "    }\n",
       "</style>\n",
       "<table border=\"1\" class=\"dataframe\">\n",
       "  <thead>\n",
       "    <tr style=\"text-align: right;\">\n",
       "      <th></th>\n",
       "      <th>score</th>\n",
       "      <th>target1</th>\n",
       "      <th>anchor1</th>\n",
       "      <th>code</th>\n",
       "      <th>section</th>\n",
       "      <th>class</th>\n",
       "      <th>title2</th>\n",
       "    </tr>\n",
       "  </thead>\n",
       "  <tbody>\n",
       "    <tr>\n",
       "      <th>0</th>\n",
       "      <td>0.50</td>\n",
       "      <td>abat pollut</td>\n",
       "      <td>abat</td>\n",
       "      <td>A47</td>\n",
       "      <td>A</td>\n",
       "      <td>47</td>\n",
       "      <td>furnitur domest articl applianc coffe mill spice mill suction cleaner general</td>\n",
       "    </tr>\n",
       "    <tr>\n",
       "      <th>1</th>\n",
       "      <td>0.75</td>\n",
       "      <td>act abat</td>\n",
       "      <td>abat</td>\n",
       "      <td>A47</td>\n",
       "      <td>A</td>\n",
       "      <td>47</td>\n",
       "      <td>furnitur domest articl applianc coffe mill spice mill suction cleaner general</td>\n",
       "    </tr>\n",
       "    <tr>\n",
       "      <th>2</th>\n",
       "      <td>0.25</td>\n",
       "      <td>activ catalyst</td>\n",
       "      <td>abat</td>\n",
       "      <td>A47</td>\n",
       "      <td>A</td>\n",
       "      <td>47</td>\n",
       "      <td>furnitur domest articl applianc coffe mill spice mill suction cleaner general</td>\n",
       "    </tr>\n",
       "    <tr>\n",
       "      <th>3</th>\n",
       "      <td>0.50</td>\n",
       "      <td>elimin process</td>\n",
       "      <td>abat</td>\n",
       "      <td>A47</td>\n",
       "      <td>A</td>\n",
       "      <td>47</td>\n",
       "      <td>furnitur domest articl applianc coffe mill spice mill suction cleaner general</td>\n",
       "    </tr>\n",
       "    <tr>\n",
       "      <th>4</th>\n",
       "      <td>0.00</td>\n",
       "      <td>forest region</td>\n",
       "      <td>abat</td>\n",
       "      <td>A47</td>\n",
       "      <td>A</td>\n",
       "      <td>47</td>\n",
       "      <td>furnitur domest articl applianc coffe mill spice mill suction cleaner general</td>\n",
       "    </tr>\n",
       "    <tr>\n",
       "      <th>...</th>\n",
       "      <td>...</td>\n",
       "      <td>...</td>\n",
       "      <td>...</td>\n",
       "      <td>...</td>\n",
       "      <td>...</td>\n",
       "      <td>...</td>\n",
       "      <td>...</td>\n",
       "    </tr>\n",
       "    <tr>\n",
       "      <th>29131</th>\n",
       "      <td>0.75</td>\n",
       "      <td>fire cartridg</td>\n",
       "      <td>fire cartridg case</td>\n",
       "      <td>C06</td>\n",
       "      <td>C</td>\n",
       "      <td>6</td>\n",
       "      <td>explos match</td>\n",
       "    </tr>\n",
       "    <tr>\n",
       "      <th>6397</th>\n",
       "      <td>0.75</td>\n",
       "      <td>determin analysi</td>\n",
       "      <td>calcul analysi</td>\n",
       "      <td>H04</td>\n",
       "      <td>H</td>\n",
       "      <td>4</td>\n",
       "      <td>electr communic techniqu</td>\n",
       "    </tr>\n",
       "    <tr>\n",
       "      <th>34935</th>\n",
       "      <td>0.75</td>\n",
       "      <td>grip layer</td>\n",
       "      <td>grip surfac</td>\n",
       "      <td>D05</td>\n",
       "      <td>D</td>\n",
       "      <td>5</td>\n",
       "      <td>sew embroid tuft</td>\n",
       "    </tr>\n",
       "    <tr>\n",
       "      <th>32483</th>\n",
       "      <td>0.75</td>\n",
       "      <td>sphygmomanomet</td>\n",
       "      <td>sphygmomanomet devic</td>\n",
       "      <td>G05</td>\n",
       "      <td>G</td>\n",
       "      <td>5</td>\n",
       "      <td>control regul</td>\n",
       "    </tr>\n",
       "    <tr>\n",
       "      <th>27518</th>\n",
       "      <td>0.75</td>\n",
       "      <td>combin optic element</td>\n",
       "      <td>combin optic compon</td>\n",
       "      <td>G02</td>\n",
       "      <td>G</td>\n",
       "      <td>2</td>\n",
       "      <td>optic</td>\n",
       "    </tr>\n",
       "  </tbody>\n",
       "</table>\n",
       "<p>40473 rows × 7 columns</p>\n",
       "</div>"
      ],
      "text/plain": [
       "       score                target1                anchor1 code section  \\\n",
       "0       0.50            abat pollut                   abat  A47       A   \n",
       "1       0.75               act abat                   abat  A47       A   \n",
       "2       0.25         activ catalyst                   abat  A47       A   \n",
       "3       0.50         elimin process                   abat  A47       A   \n",
       "4       0.00          forest region                   abat  A47       A   \n",
       "...      ...                    ...                    ...  ...     ...   \n",
       "29131   0.75          fire cartridg     fire cartridg case  C06       C   \n",
       "6397    0.75       determin analysi         calcul analysi  H04       H   \n",
       "34935   0.75             grip layer            grip surfac  D05       D   \n",
       "32483   0.75         sphygmomanomet   sphygmomanomet devic  G05       G   \n",
       "27518   0.75   combin optic element    combin optic compon  G02       G   \n",
       "\n",
       "       class  \\\n",
       "0         47   \n",
       "1         47   \n",
       "2         47   \n",
       "3         47   \n",
       "4         47   \n",
       "...      ...   \n",
       "29131      6   \n",
       "6397       4   \n",
       "34935      5   \n",
       "32483      5   \n",
       "27518      2   \n",
       "\n",
       "                                                                               title2  \n",
       "0       furnitur domest articl applianc coffe mill spice mill suction cleaner general  \n",
       "1       furnitur domest articl applianc coffe mill spice mill suction cleaner general  \n",
       "2       furnitur domest articl applianc coffe mill spice mill suction cleaner general  \n",
       "3       furnitur domest articl applianc coffe mill spice mill suction cleaner general  \n",
       "4       furnitur domest articl applianc coffe mill spice mill suction cleaner general  \n",
       "...                                                                               ...  \n",
       "29131                                                                    explos match  \n",
       "6397                                                         electr communic techniqu  \n",
       "34935                                                                sew embroid tuft  \n",
       "32483                                                                   control regul  \n",
       "27518                                                                           optic  \n",
       "\n",
       "[40473 rows x 7 columns]"
      ]
     },
     "execution_count": 18,
     "metadata": {},
     "output_type": "execute_result"
    }
   ],
   "source": [
    "train"
   ]
  },
  {
   "cell_type": "code",
   "execution_count": 19,
   "id": "a3d90f30",
   "metadata": {
    "execution": {
     "iopub.execute_input": "2022-06-07T18:13:41.230933Z",
     "iopub.status.busy": "2022-06-07T18:13:41.230558Z",
     "iopub.status.idle": "2022-06-07T18:13:41.350759Z",
     "shell.execute_reply": "2022-06-07T18:13:41.349801Z"
    },
    "papermill": {
     "duration": 0.131932,
     "end_time": "2022-06-07T18:13:41.352790",
     "exception": false,
     "start_time": "2022-06-07T18:13:41.220858",
     "status": "completed"
    },
    "tags": []
   },
   "outputs": [
    {
     "data": {
      "text/html": [
       "<div>\n",
       "<style scoped>\n",
       "    .dataframe tbody tr th:only-of-type {\n",
       "        vertical-align: middle;\n",
       "    }\n",
       "\n",
       "    .dataframe tbody tr th {\n",
       "        vertical-align: top;\n",
       "    }\n",
       "\n",
       "    .dataframe thead th {\n",
       "        text-align: right;\n",
       "    }\n",
       "</style>\n",
       "<table border=\"1\" class=\"dataframe\">\n",
       "  <thead>\n",
       "    <tr style=\"text-align: right;\">\n",
       "      <th></th>\n",
       "      <th>score</th>\n",
       "      <th>target1</th>\n",
       "      <th>anchor1</th>\n",
       "      <th>code</th>\n",
       "      <th>section</th>\n",
       "      <th>class</th>\n",
       "      <th>title2</th>\n",
       "      <th>topic</th>\n",
       "      <th>input</th>\n",
       "    </tr>\n",
       "  </thead>\n",
       "  <tbody>\n",
       "    <tr>\n",
       "      <th>0</th>\n",
       "      <td>0.50</td>\n",
       "      <td>abat pollut</td>\n",
       "      <td>abat</td>\n",
       "      <td>A47</td>\n",
       "      <td>A</td>\n",
       "      <td>47</td>\n",
       "      <td>furnitur domest articl applianc coffe mill spice mill suction cleaner general</td>\n",
       "      <td>human necessities</td>\n",
       "      <td>abat a 47 human necessities  furnitur domest articl applianc coffe mill spice mill suction cleaner general</td>\n",
       "    </tr>\n",
       "    <tr>\n",
       "      <th>1</th>\n",
       "      <td>0.75</td>\n",
       "      <td>act abat</td>\n",
       "      <td>abat</td>\n",
       "      <td>A47</td>\n",
       "      <td>A</td>\n",
       "      <td>47</td>\n",
       "      <td>furnitur domest articl applianc coffe mill spice mill suction cleaner general</td>\n",
       "      <td>human necessities</td>\n",
       "      <td>abat a 47 human necessities  furnitur domest articl applianc coffe mill spice mill suction cleaner general</td>\n",
       "    </tr>\n",
       "    <tr>\n",
       "      <th>2</th>\n",
       "      <td>0.25</td>\n",
       "      <td>activ catalyst</td>\n",
       "      <td>abat</td>\n",
       "      <td>A47</td>\n",
       "      <td>A</td>\n",
       "      <td>47</td>\n",
       "      <td>furnitur domest articl applianc coffe mill spice mill suction cleaner general</td>\n",
       "      <td>human necessities</td>\n",
       "      <td>abat a 47 human necessities  furnitur domest articl applianc coffe mill spice mill suction cleaner general</td>\n",
       "    </tr>\n",
       "    <tr>\n",
       "      <th>3</th>\n",
       "      <td>0.50</td>\n",
       "      <td>elimin process</td>\n",
       "      <td>abat</td>\n",
       "      <td>A47</td>\n",
       "      <td>A</td>\n",
       "      <td>47</td>\n",
       "      <td>furnitur domest articl applianc coffe mill spice mill suction cleaner general</td>\n",
       "      <td>human necessities</td>\n",
       "      <td>abat a 47 human necessities  furnitur domest articl applianc coffe mill spice mill suction cleaner general</td>\n",
       "    </tr>\n",
       "    <tr>\n",
       "      <th>4</th>\n",
       "      <td>0.00</td>\n",
       "      <td>forest region</td>\n",
       "      <td>abat</td>\n",
       "      <td>A47</td>\n",
       "      <td>A</td>\n",
       "      <td>47</td>\n",
       "      <td>furnitur domest articl applianc coffe mill spice mill suction cleaner general</td>\n",
       "      <td>human necessities</td>\n",
       "      <td>abat a 47 human necessities  furnitur domest articl applianc coffe mill spice mill suction cleaner general</td>\n",
       "    </tr>\n",
       "    <tr>\n",
       "      <th>...</th>\n",
       "      <td>...</td>\n",
       "      <td>...</td>\n",
       "      <td>...</td>\n",
       "      <td>...</td>\n",
       "      <td>...</td>\n",
       "      <td>...</td>\n",
       "      <td>...</td>\n",
       "      <td>...</td>\n",
       "      <td>...</td>\n",
       "    </tr>\n",
       "    <tr>\n",
       "      <th>29131</th>\n",
       "      <td>0.75</td>\n",
       "      <td>fire cartridg</td>\n",
       "      <td>fire cartridg case</td>\n",
       "      <td>C06</td>\n",
       "      <td>C</td>\n",
       "      <td>6</td>\n",
       "      <td>explos match</td>\n",
       "      <td>chemistry and metallurgy</td>\n",
       "      <td>fire cartridg case c 6 chemistry and metallurgy  explos match</td>\n",
       "    </tr>\n",
       "    <tr>\n",
       "      <th>6397</th>\n",
       "      <td>0.75</td>\n",
       "      <td>determin analysi</td>\n",
       "      <td>calcul analysi</td>\n",
       "      <td>H04</td>\n",
       "      <td>H</td>\n",
       "      <td>4</td>\n",
       "      <td>electr communic techniqu</td>\n",
       "      <td>electricity</td>\n",
       "      <td>calcul analysi h 4 electricity  electr communic techniqu</td>\n",
       "    </tr>\n",
       "    <tr>\n",
       "      <th>34935</th>\n",
       "      <td>0.75</td>\n",
       "      <td>grip layer</td>\n",
       "      <td>grip surfac</td>\n",
       "      <td>D05</td>\n",
       "      <td>D</td>\n",
       "      <td>5</td>\n",
       "      <td>sew embroid tuft</td>\n",
       "      <td>textiles</td>\n",
       "      <td>grip surfac d 5 textiles  sew embroid tuft</td>\n",
       "    </tr>\n",
       "    <tr>\n",
       "      <th>32483</th>\n",
       "      <td>0.75</td>\n",
       "      <td>sphygmomanomet</td>\n",
       "      <td>sphygmomanomet devic</td>\n",
       "      <td>G05</td>\n",
       "      <td>G</td>\n",
       "      <td>5</td>\n",
       "      <td>control regul</td>\n",
       "      <td>physics</td>\n",
       "      <td>sphygmomanomet devic g 5 physics  control regul</td>\n",
       "    </tr>\n",
       "    <tr>\n",
       "      <th>27518</th>\n",
       "      <td>0.75</td>\n",
       "      <td>combin optic element</td>\n",
       "      <td>combin optic compon</td>\n",
       "      <td>G02</td>\n",
       "      <td>G</td>\n",
       "      <td>2</td>\n",
       "      <td>optic</td>\n",
       "      <td>physics</td>\n",
       "      <td>combin optic compon g 2 physics  optic</td>\n",
       "    </tr>\n",
       "  </tbody>\n",
       "</table>\n",
       "<p>40473 rows × 9 columns</p>\n",
       "</div>"
      ],
      "text/plain": [
       "       score                target1                anchor1 code section  \\\n",
       "0       0.50            abat pollut                   abat  A47       A   \n",
       "1       0.75               act abat                   abat  A47       A   \n",
       "2       0.25         activ catalyst                   abat  A47       A   \n",
       "3       0.50         elimin process                   abat  A47       A   \n",
       "4       0.00          forest region                   abat  A47       A   \n",
       "...      ...                    ...                    ...  ...     ...   \n",
       "29131   0.75          fire cartridg     fire cartridg case  C06       C   \n",
       "6397    0.75       determin analysi         calcul analysi  H04       H   \n",
       "34935   0.75             grip layer            grip surfac  D05       D   \n",
       "32483   0.75         sphygmomanomet   sphygmomanomet devic  G05       G   \n",
       "27518   0.75   combin optic element    combin optic compon  G02       G   \n",
       "\n",
       "       class  \\\n",
       "0         47   \n",
       "1         47   \n",
       "2         47   \n",
       "3         47   \n",
       "4         47   \n",
       "...      ...   \n",
       "29131      6   \n",
       "6397       4   \n",
       "34935      5   \n",
       "32483      5   \n",
       "27518      2   \n",
       "\n",
       "                                                                               title2  \\\n",
       "0       furnitur domest articl applianc coffe mill spice mill suction cleaner general   \n",
       "1       furnitur domest articl applianc coffe mill spice mill suction cleaner general   \n",
       "2       furnitur domest articl applianc coffe mill spice mill suction cleaner general   \n",
       "3       furnitur domest articl applianc coffe mill spice mill suction cleaner general   \n",
       "4       furnitur domest articl applianc coffe mill spice mill suction cleaner general   \n",
       "...                                                                               ...   \n",
       "29131                                                                    explos match   \n",
       "6397                                                         electr communic techniqu   \n",
       "34935                                                                sew embroid tuft   \n",
       "32483                                                                   control regul   \n",
       "27518                                                                           optic   \n",
       "\n",
       "                          topic  \\\n",
       "0             human necessities   \n",
       "1             human necessities   \n",
       "2             human necessities   \n",
       "3             human necessities   \n",
       "4             human necessities   \n",
       "...                         ...   \n",
       "29131  chemistry and metallurgy   \n",
       "6397                electricity   \n",
       "34935                  textiles   \n",
       "32483                   physics   \n",
       "27518                   physics   \n",
       "\n",
       "                                                                                                             input  \n",
       "0       abat a 47 human necessities  furnitur domest articl applianc coffe mill spice mill suction cleaner general  \n",
       "1       abat a 47 human necessities  furnitur domest articl applianc coffe mill spice mill suction cleaner general  \n",
       "2       abat a 47 human necessities  furnitur domest articl applianc coffe mill spice mill suction cleaner general  \n",
       "3       abat a 47 human necessities  furnitur domest articl applianc coffe mill spice mill suction cleaner general  \n",
       "4       abat a 47 human necessities  furnitur domest articl applianc coffe mill spice mill suction cleaner general  \n",
       "...                                                                                                            ...  \n",
       "29131                                                fire cartridg case c 6 chemistry and metallurgy  explos match  \n",
       "6397                                                      calcul analysi h 4 electricity  electr communic techniqu  \n",
       "34935                                                                   grip surfac d 5 textiles  sew embroid tuft  \n",
       "32483                                                              sphygmomanomet devic g 5 physics  control regul  \n",
       "27518                                                                       combin optic compon g 2 physics  optic  \n",
       "\n",
       "[40473 rows x 9 columns]"
      ]
     },
     "execution_count": 19,
     "metadata": {},
     "output_type": "execute_result"
    }
   ],
   "source": [
    "train['topic'] = train['section'].map(sections).str.lower()\n",
    "\n",
    "train['input'] = train['anchor1'] +' '+ train['section'].str.lower() + \" \" + train['class'].astype(str) + \" \" + train['topic'] + ' ' +\\\n",
    "                    train['title2'].str.lower() \n",
    "train"
   ]
  },
  {
   "cell_type": "markdown",
   "id": "2e189c10",
   "metadata": {
    "papermill": {
     "duration": 0.008905,
     "end_time": "2022-06-07T18:13:41.370600",
     "exception": false,
     "start_time": "2022-06-07T18:13:41.361695",
     "status": "completed"
    },
    "tags": []
   },
   "source": [
    "# Save training data"
   ]
  },
  {
   "cell_type": "code",
   "execution_count": 20,
   "id": "1038e9b3",
   "metadata": {
    "execution": {
     "iopub.execute_input": "2022-06-07T18:13:41.389711Z",
     "iopub.status.busy": "2022-06-07T18:13:41.388892Z",
     "iopub.status.idle": "2022-06-07T18:13:41.414923Z",
     "shell.execute_reply": "2022-06-07T18:13:41.414238Z"
    },
    "papermill": {
     "duration": 0.037552,
     "end_time": "2022-06-07T18:13:41.416663",
     "exception": false,
     "start_time": "2022-06-07T18:13:41.379111",
     "status": "completed"
    },
    "tags": []
   },
   "outputs": [
    {
     "data": {
      "text/html": [
       "<div>\n",
       "<style scoped>\n",
       "    .dataframe tbody tr th:only-of-type {\n",
       "        vertical-align: middle;\n",
       "    }\n",
       "\n",
       "    .dataframe tbody tr th {\n",
       "        vertical-align: top;\n",
       "    }\n",
       "\n",
       "    .dataframe thead th {\n",
       "        text-align: right;\n",
       "    }\n",
       "</style>\n",
       "<table border=\"1\" class=\"dataframe\">\n",
       "  <thead>\n",
       "    <tr style=\"text-align: right;\">\n",
       "      <th></th>\n",
       "      <th>input</th>\n",
       "      <th>target</th>\n",
       "      <th>score</th>\n",
       "    </tr>\n",
       "  </thead>\n",
       "  <tbody>\n",
       "    <tr>\n",
       "      <th>0</th>\n",
       "      <td>abat a 47 human necessities  furnitur domest articl applianc coffe mill spice mill suction cleaner general</td>\n",
       "      <td>abat pollut</td>\n",
       "      <td>0.50</td>\n",
       "    </tr>\n",
       "    <tr>\n",
       "      <th>1</th>\n",
       "      <td>abat a 47 human necessities  furnitur domest articl applianc coffe mill spice mill suction cleaner general</td>\n",
       "      <td>act abat</td>\n",
       "      <td>0.75</td>\n",
       "    </tr>\n",
       "    <tr>\n",
       "      <th>2</th>\n",
       "      <td>abat a 47 human necessities  furnitur domest articl applianc coffe mill spice mill suction cleaner general</td>\n",
       "      <td>activ catalyst</td>\n",
       "      <td>0.25</td>\n",
       "    </tr>\n",
       "    <tr>\n",
       "      <th>3</th>\n",
       "      <td>abat a 47 human necessities  furnitur domest articl applianc coffe mill spice mill suction cleaner general</td>\n",
       "      <td>elimin process</td>\n",
       "      <td>0.50</td>\n",
       "    </tr>\n",
       "    <tr>\n",
       "      <th>4</th>\n",
       "      <td>abat a 47 human necessities  furnitur domest articl applianc coffe mill spice mill suction cleaner general</td>\n",
       "      <td>forest region</td>\n",
       "      <td>0.00</td>\n",
       "    </tr>\n",
       "  </tbody>\n",
       "</table>\n",
       "</div>"
      ],
      "text/plain": [
       "                                                                                                         input  \\\n",
       "0   abat a 47 human necessities  furnitur domest articl applianc coffe mill spice mill suction cleaner general   \n",
       "1   abat a 47 human necessities  furnitur domest articl applianc coffe mill spice mill suction cleaner general   \n",
       "2   abat a 47 human necessities  furnitur domest articl applianc coffe mill spice mill suction cleaner general   \n",
       "3   abat a 47 human necessities  furnitur domest articl applianc coffe mill spice mill suction cleaner general   \n",
       "4   abat a 47 human necessities  furnitur domest articl applianc coffe mill spice mill suction cleaner general   \n",
       "\n",
       "            target  score  \n",
       "0      abat pollut   0.50  \n",
       "1         act abat   0.75  \n",
       "2   activ catalyst   0.25  \n",
       "3   elimin process   0.50  \n",
       "4    forest region   0.00  "
      ]
     },
     "execution_count": 20,
     "metadata": {},
     "output_type": "execute_result"
    }
   ],
   "source": [
    "train_data = train[['input','target1','score']]\n",
    "train_data = train_data.rename(columns={'target1':\"target\"})\n",
    "train_data.head()"
   ]
  },
  {
   "cell_type": "code",
   "execution_count": 21,
   "id": "8c84ef85",
   "metadata": {
    "execution": {
     "iopub.execute_input": "2022-06-07T18:13:41.436020Z",
     "iopub.status.busy": "2022-06-07T18:13:41.435407Z",
     "iopub.status.idle": "2022-06-07T18:13:41.574753Z",
     "shell.execute_reply": "2022-06-07T18:13:41.573700Z"
    },
    "papermill": {
     "duration": 0.15166,
     "end_time": "2022-06-07T18:13:41.577072",
     "exception": false,
     "start_time": "2022-06-07T18:13:41.425412",
     "status": "completed"
    },
    "tags": []
   },
   "outputs": [],
   "source": [
    "train_data.to_csv('uspppm_train.csv', index=False)"
   ]
  }
 ],
 "metadata": {
  "kernelspec": {
   "display_name": "Python 3",
   "language": "python",
   "name": "python3"
  },
  "language_info": {
   "codemirror_mode": {
    "name": "ipython",
    "version": 3
   },
   "file_extension": ".py",
   "mimetype": "text/x-python",
   "name": "python",
   "nbconvert_exporter": "python",
   "pygments_lexer": "ipython3",
   "version": "3.7.12"
  },
  "papermill": {
   "default_parameters": {},
   "duration": 39.351061,
   "end_time": "2022-06-07T18:13:42.508571",
   "environment_variables": {},
   "exception": null,
   "input_path": "__notebook__.ipynb",
   "output_path": "__notebook__.ipynb",
   "parameters": {},
   "start_time": "2022-06-07T18:13:03.157510",
   "version": "2.3.4"
  }
 },
 "nbformat": 4,
 "nbformat_minor": 5
}
